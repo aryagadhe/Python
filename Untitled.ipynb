{
 "cells": [
  {
   "cell_type": "code",
   "execution_count": 1,
   "id": "1fff3e9b-c2f3-4379-93ff-a48e5ece3c3e",
   "metadata": {},
   "outputs": [
    {
     "ename": "AttributeError",
     "evalue": "module 'turtle' has no attribute 'ideturtle'",
     "output_type": "error",
     "traceback": [
      "\u001b[31m---------------------------------------------------------------------------\u001b[39m",
      "\u001b[31mAttributeError\u001b[39m                            Traceback (most recent call last)",
      "\u001b[36mCell\u001b[39m\u001b[36m \u001b[39m\u001b[32mIn[1]\u001b[39m\u001b[32m, line 18\u001b[39m\n\u001b[32m     16\u001b[39m turtle.forward(\u001b[32m111.65\u001b[39m)\n\u001b[32m     17\u001b[39m turtle.end_fill()\n\u001b[32m---> \u001b[39m\u001b[32m18\u001b[39m \u001b[43mturtle\u001b[49m\u001b[43m.\u001b[49m\u001b[43mideturtle\u001b[49m()\n\u001b[32m     19\u001b[39m turtle.done()\n",
      "\u001b[31mAttributeError\u001b[39m: module 'turtle' has no attribute 'ideturtle'"
     ]
    }
   ],
   "source": [
    "import turtle\n",
    "turtle.speed(3)\n",
    "turtle.bgcolor('black')\n",
    "turtle.pensize(3)\n",
    "def func():\n",
    "    for i in range(200):\n",
    "        turtle.right(1)\n",
    "        turtle.forward(1)\n",
    "turtle.color('red', 'pink')\n",
    "turtle.begin_fill()\n",
    "turtle.left(140)\n",
    "turtle.forward(111.65)\n",
    "func()\n",
    "turtle.left(120)\n",
    "func()\n",
    "turtle.forward(111.65)\n",
    "turtle.end_fill()\n",
    "turtle.ideturtle()\n",
    "turtle.done()"
   ]
  },
  {
   "cell_type": "code",
   "execution_count": null,
   "id": "8ac7334d-e129-49ec-8a27-0e88b428048a",
   "metadata": {},
   "outputs": [],
   "source": []
  }
 ],
 "metadata": {
  "kernelspec": {
   "display_name": "Python 3 (ipykernel)",
   "language": "python",
   "name": "python3"
  },
  "language_info": {
   "codemirror_mode": {
    "name": "ipython",
    "version": 3
   },
   "file_extension": ".py",
   "mimetype": "text/x-python",
   "name": "python",
   "nbconvert_exporter": "python",
   "pygments_lexer": "ipython3",
   "version": "3.13.7"
  }
 },
 "nbformat": 4,
 "nbformat_minor": 5
}
