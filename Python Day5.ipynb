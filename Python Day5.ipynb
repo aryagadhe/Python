{
 "cells": [
  {
   "cell_type": "code",
   "execution_count": 2,
   "id": "91f07367-341d-4ce5-8b05-665978dc9d93",
   "metadata": {},
   "outputs": [
    {
     "name": "stdout",
     "output_type": "stream",
     "text": [
      "False\n",
      "True\n"
     ]
    }
   ],
   "source": [
    "# Logical Operator \n",
    "stu=('ython','java','css','django')\n",
    "print('python' in stu and 10==10 and 10>30)\n",
    "print(True and True)"
   ]
  },
  {
   "cell_type": "code",
   "execution_count": null,
   "id": "5dc5a428-2462-4dc5-b5c7-7dea7e7267da",
   "metadata": {},
   "outputs": [],
   "source": [
    "num1=int(input('10'))\n",
    "num2=int(input('2'))\n",
    "print(num1>100 or num2==2)\n",
    "print(10!=10 or 100>30)\n",
    "print(True or False)"
   ]
  },
  {
   "cell_type": "code",
   "execution_count": null,
   "id": "e97e510c-8dfa-4140-b1cd-ec9aaa160dc6",
   "metadata": {},
   "outputs": [],
   "source": [
    "user_name=input('admin')\n",
    "password=int(input,('1234'))\n",
    "print(user_name=='admin12)"
   ]
  },
  {
   "cell_type": "code",
   "execution_count": 4,
   "id": "7ac966a1-47e9-44e1-8f88-fcc34840a55c",
   "metadata": {},
   "outputs": [
    {
     "name": "stdout",
     "output_type": "stream",
     "text": [
      "2\n"
     ]
    }
   ],
   "source": [
    "# Bitwise operator: Bitwise operator is not work in the direct value always work on the direct value\n",
    "# for the Web Developer, data analysis this operator is rarely used\n",
    "# The traffic application, engine application\n",
    "print(5^7)"
   ]
  },
  {
   "cell_type": "code",
   "execution_count": 5,
   "id": "047bfab9-4f6f-4fc9-a8f2-98d63ca705ad",
   "metadata": {},
   "outputs": [
    {
     "name": "stdout",
     "output_type": "stream",
     "text": [
      "0\n"
     ]
    }
   ],
   "source": [
    "print(3>>2)"
   ]
  },
  {
   "cell_type": "code",
   "execution_count": 6,
   "id": "5f855092-6911-4166-834f-498d241ab52f",
   "metadata": {},
   "outputs": [
    {
     "name": "stdout",
     "output_type": "stream",
     "text": [
      "12\n"
     ]
    }
   ],
   "source": [
    "print(3<<2)"
   ]
  },
  {
   "cell_type": "code",
   "execution_count": 7,
   "id": "394f0c75-8830-477a-a514-9392cb1996ac",
   "metadata": {},
   "outputs": [
    {
     "name": "stdout",
     "output_type": "stream",
     "text": [
      "5\n"
     ]
    }
   ],
   "source": [
    "print(1 ^ 4)"
   ]
  },
  {
   "cell_type": "code",
   "execution_count": 8,
   "id": "6f8153ed-ce9f-4303-ad19-97acb01c5a8d",
   "metadata": {},
   "outputs": [
    {
     "name": "stdout",
     "output_type": "stream",
     "text": [
      "yes condition is true\n",
      "code run\n"
     ]
    }
   ],
   "source": [
    "# Flow control in python\n",
    "if 100>10:\n",
    "    print('yes condition is true')\n",
    "    print('code run')\n"
   ]
  },
  {
   "cell_type": "code",
   "execution_count": 14,
   "id": "7fc8983e-2595-48cf-bbe2-07d3a1a6010c",
   "metadata": {},
   "outputs": [
    {
     "name": "stdout",
     "output_type": "stream",
     "text": [
      "yes condition is true\n",
      "code run\n"
     ]
    }
   ],
   "source": [
    "if 1000>10:\n",
    "    print('yes condition is true')\n",
    "print('code run')"
   ]
  },
  {
   "cell_type": "code",
   "execution_count": 15,
   "id": "85d737a4-6681-4aad-87ce-4371dabc52ff",
   "metadata": {},
   "outputs": [
    {
     "ename": "NameError",
     "evalue": "name 'password' is not defined",
     "output_type": "error",
     "traceback": [
      "\u001b[31m---------------------------------------------------------------------------\u001b[39m",
      "\u001b[31mNameError\u001b[39m                                 Traceback (most recent call last)",
      "\u001b[36mCell\u001b[39m\u001b[36m \u001b[39m\u001b[32mIn[15]\u001b[39m\u001b[32m, line 1\u001b[39m\n\u001b[32m----> \u001b[39m\u001b[32m1\u001b[39m \u001b[38;5;28;01mif\u001b[39;00m \u001b[43mpassword\u001b[49m==\u001b[33m'\u001b[39m\u001b[33madmin@123\u001b[39m\u001b[33m'\u001b[39m:\n\u001b[32m      2\u001b[39m     \u001b[38;5;28mprint\u001b[39m(\u001b[33m'\u001b[39m\u001b[33mlogin into the system\u001b[39m\u001b[33m'\u001b[39m)\n",
      "\u001b[31mNameError\u001b[39m: name 'password' is not defined"
     ]
    }
   ],
   "source": [
    "if password=='admin@123':\n",
    "    print('login into the system')"
   ]
  },
  {
   "cell_type": "code",
   "execution_count": null,
   "id": "704d5449-7bfa-4959-b12e-aaa89600a254",
   "metadata": {},
   "outputs": [],
   "source": []
  }
 ],
 "metadata": {
  "kernelspec": {
   "display_name": "Python 3 (ipykernel)",
   "language": "python",
   "name": "python3"
  },
  "language_info": {
   "codemirror_mode": {
    "name": "ipython",
    "version": 3
   },
   "file_extension": ".py",
   "mimetype": "text/x-python",
   "name": "python",
   "nbconvert_exporter": "python",
   "pygments_lexer": "ipython3",
   "version": "3.13.7"
  }
 },
 "nbformat": 4,
 "nbformat_minor": 5
}
