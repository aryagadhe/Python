{
 "cells": [
  {
   "cell_type": "code",
   "execution_count": 1,
   "id": "721ee106-8395-4e31-9033-5efc46b553ca",
   "metadata": {},
   "outputs": [
    {
     "name": "stdout",
     "output_type": "stream",
     "text": [
      "[5, 6, 7, 45]\n"
     ]
    }
   ],
   "source": [
    "#append\n",
    "s=[5,6,7]\n",
    "s.append(45)\n",
    "print(s)"
   ]
  },
  {
   "cell_type": "code",
   "execution_count": 2,
   "id": "f5fcf23a-f6ca-4d1b-a2cf-960db32c38de",
   "metadata": {},
   "outputs": [
    {
     "ename": "AttributeError",
     "evalue": "'str' object has no attribute 'append'",
     "output_type": "error",
     "traceback": [
      "\u001b[31m---------------------------------------------------------------------------\u001b[39m",
      "\u001b[31mAttributeError\u001b[39m                            Traceback (most recent call last)",
      "\u001b[36mCell\u001b[39m\u001b[36m \u001b[39m\u001b[32mIn[2]\u001b[39m\u001b[32m, line 2\u001b[39m\n\u001b[32m      1\u001b[39m data=\u001b[33m'\u001b[39m\u001b[33mpython programming\u001b[39m\u001b[33m'\u001b[39m\n\u001b[32m----> \u001b[39m\u001b[32m2\u001b[39m \u001b[43mdata\u001b[49m\u001b[43m.\u001b[49m\u001b[43mappend\u001b[49m(\u001b[33m'\u001b[39m\u001b[33mjava\u001b[39m\u001b[33m'\u001b[39m)\n\u001b[32m      3\u001b[39m \u001b[38;5;28mprint\u001b[39m(data)\n",
      "\u001b[31mAttributeError\u001b[39m: 'str' object has no attribute 'append'"
     ]
    }
   ],
   "source": [
    "data='python programming'\n",
    "data.append('java')\n",
    "print(data)"
   ]
  },
  {
   "cell_type": "code",
   "execution_count": 4,
   "id": "4b574897-b02b-42dc-bbf6-732ecef0a110",
   "metadata": {},
   "outputs": [
    {
     "name": "stdout",
     "output_type": "stream",
     "text": [
      "14\n",
      "h\n",
      "t\n",
      "n\n",
      " \n",
      "....\n"
     ]
    }
   ],
   "source": [
    "#indexing- Indexing is the way to get the particular item from the string\n",
    "#Whenever we create a string python attomatically assign the index value to each item in string\n",
    "# Types = Positive indexing and negative indexing\n",
    "#Indexing which goes left to right positive indexing always from o is called positive indexing (Space is also consider)\n",
    "#Indexing which goes right to left negative indexing always start from -1 is called negative indexing \n",
    "\n",
    "data='hi python user'\n",
    "print(len(data))\n",
    "print(data[0])\n",
    "print(data[5])\n",
    "print(data[8])\n",
    "print(data[2])\n",
    "print('....')"
   ]
  },
  {
   "cell_type": "code",
   "execution_count": 7,
   "id": "6c57ccba-ef5f-4e66-9341-58506305f25a",
   "metadata": {},
   "outputs": [
    {
     "name": "stdout",
     "output_type": "stream",
     "text": [
      "r\n",
      "s\n",
      "h\n",
      "p\n"
     ]
    }
   ],
   "source": [
    "# negative indexing\n",
    "print(data[-1])\n",
    "print(data[-3])\n",
    "print(data[-14])\n",
    "print(data[-11])\n",
    "\n"
   ]
  },
  {
   "cell_type": "code",
   "execution_count": 11,
   "id": "ee06005a-addb-41e0-9e54-94d1cf69da2a",
   "metadata": {},
   "outputs": [
    {
     "name": "stdout",
     "output_type": "stream",
     "text": [
      "h\n",
      "hi\n",
      "python us\n",
      "hi py\n"
     ]
    }
   ],
   "source": [
    "data='hi python user'\n",
    "print(data[0:1])\n",
    "print(data[0:2])\n",
    "print(data[3:12])\n",
    "print(data[0:5])"
   ]
  },
  {
   "cell_type": "code",
   "execution_count": 12,
   "id": "3303ce90-6eb8-43ad-96f6-1ab25a6d6cb8",
   "metadata": {},
   "outputs": [
    {
     "name": "stdout",
     "output_type": "stream",
     "text": [
      "\n",
      "hi pyt\n",
      "hi python user\n"
     ]
    }
   ],
   "source": [
    "print(data[4:1])\n",
    "print(data[:6])\n",
    "print(data[:])"
   ]
  },
  {
   "cell_type": "code",
   "execution_count": 13,
   "id": "c972d4a2-f2a0-4096-b55d-0d9892a1a4cd",
   "metadata": {},
   "outputs": [
    {
     "name": "stdout",
     "output_type": "stream",
     "text": [
      "\n",
      "user\n",
      "py\n"
     ]
    }
   ],
   "source": [
    "data='hi python user'\n",
    "print(data[-1:-4])\n",
    "print(data[-4:])\n",
    "print(data[-11:5])"
   ]
  },
  {
   "cell_type": "code",
   "execution_count": 14,
   "id": "973e8cdf-b93d-4619-8282-6da58d7e195e",
   "metadata": {},
   "outputs": [
    {
     "name": "stdin",
     "output_type": "stream",
     "text": [
      "enter your name arya\n"
     ]
    },
    {
     "name": "stdout",
     "output_type": "stream",
     "text": [
      "hello arya\n"
     ]
    }
   ],
   "source": [
    "data='hello'\n",
    "user=input('enter your name')\n",
    "print(data+' '+user)"
   ]
  },
  {
   "cell_type": "code",
   "execution_count": 15,
   "id": "26286c94-5393-4dc4-a66e-66ce5c1e0f5e",
   "metadata": {},
   "outputs": [
    {
     "name": "stdout",
     "output_type": "stream",
     "text": [
      "hellohellohello\n"
     ]
    }
   ],
   "source": [
    "print(data*3)"
   ]
  },
  {
   "cell_type": "code",
   "execution_count": 16,
   "id": "ea65e0e2-fd73-4cc4-ac3c-e4ea58340719",
   "metadata": {},
   "outputs": [
    {
     "name": "stdout",
     "output_type": "stream",
     "text": [
      "6\n",
      "<class 'str'>\n",
      "y\n",
      "h\n"
     ]
    }
   ],
   "source": [
    "d='python'\n",
    "print(len(d))\n",
    "print(type(d))\n",
    "print(max(d))\n",
    "print(min(d))\n"
   ]
  },
  {
   "cell_type": "code",
   "execution_count": 17,
   "id": "db208166-95ae-4633-bfc6-15eb69645b90",
   "metadata": {},
   "outputs": [
    {
     "name": "stdout",
     "output_type": "stream",
     "text": [
      "PYTHON\n"
     ]
    },
    {
     "name": "stdin",
     "output_type": "stream",
     "text": [
      "emter the name arya\n"
     ]
    },
    {
     "name": "stdout",
     "output_type": "stream",
     "text": [
      "arya conversion ARYA\n"
     ]
    }
   ],
   "source": [
    "d='python'\n",
    "print(d.upper())\n",
    "name=input('emter the name')\n",
    "print(name,'conversion',name.upper())"
   ]
  },
  {
   "cell_type": "code",
   "execution_count": 20,
   "id": "7b5ef07c-92bf-42be-b155-1c63a434a769",
   "metadata": {},
   "outputs": [
    {
     "name": "stdout",
     "output_type": "stream",
     "text": [
      "python\n"
     ]
    },
    {
     "name": "stdin",
     "output_type": "stream",
     "text": [
      "enter the name arya\n"
     ]
    },
    {
     "name": "stdout",
     "output_type": "stream",
     "text": [
      "arya conversion arya\n"
     ]
    }
   ],
   "source": [
    "d='PYTHon'\n",
    "print(d.lower())\n",
    "name=input('enter the name')\n",
    "print(name,'conversion',name.lower())"
   ]
  },
  {
   "cell_type": "code",
   "execution_count": 21,
   "id": "3a783000-f534-4df2-a2ca-79d3d9afea25",
   "metadata": {},
   "outputs": [
    {
     "name": "stdout",
     "output_type": "stream",
     "text": [
      "Python User And Java\n",
      "Python user and java\n",
      "Hello\n",
      "Hello\n"
     ]
    }
   ],
   "source": [
    "# Title- first letter of each word uppercase captialize-only first letter uppercase\n",
    "d='python user and java'\n",
    "print(d.title())\n",
    "print(d.capitalize())\n",
    "d='HELLO'\n",
    "print(d.title())\n",
    "print(d.capitalize())"
   ]
  },
  {
   "cell_type": "code",
   "execution_count": 23,
   "id": "f14f61bf-55c6-4dac-8e98-5a4735b3b813",
   "metadata": {},
   "outputs": [
    {
     "name": "stdout",
     "output_type": "stream",
     "text": [
      "hello USER\n"
     ]
    }
   ],
   "source": [
    "d='HELLO user'\n",
    "print(d.swapcase())"
   ]
  },
  {
   "cell_type": "code",
   "execution_count": null,
   "id": "a42071f8-238e-4652-b214-ae0833945ef2",
   "metadata": {},
   "outputs": [],
   "source": []
  }
 ],
 "metadata": {
  "kernelspec": {
   "display_name": "Python 3 (ipykernel)",
   "language": "python",
   "name": "python3"
  },
  "language_info": {
   "codemirror_mode": {
    "name": "ipython",
    "version": 3
   },
   "file_extension": ".py",
   "mimetype": "text/x-python",
   "name": "python",
   "nbconvert_exporter": "python",
   "pygments_lexer": "ipython3",
   "version": "3.13.7"
  }
 },
 "nbformat": 4,
 "nbformat_minor": 5
}
