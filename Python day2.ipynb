{
 "cells": [
  {
   "cell_type": "code",
   "execution_count": null,
   "id": "6856666a-6665-4669-9787-b24c6832c60b",
   "metadata": {},
   "outputs": [],
   "source": [
    "# import keyword"
   ]
  },
  {
   "cell_type": "code",
   "execution_count": null,
   "id": "e720d675-63be-48d2-bb3b-cacf947f4df0",
   "metadata": {},
   "outputs": [
    {
     "ename": "SyntaxError",
     "evalue": "invalid syntax (2816423603.py, line 1)",
     "output_type": "error",
     "traceback": [
      "  \u001b[36mCell\u001b[39m\u001b[36m \u001b[39m\u001b[32mIn[30]\u001b[39m\u001b[32m, line 1\u001b[39m\n\u001b[31m    \u001b[39m\u001b[31mimport =keyword\u001b[39m\n           ^\n\u001b[31mSyntaxError\u001b[39m\u001b[31m:\u001b[39m invalid syntax\n"
     ]
    }
   ],
   "source": [
    "import =keyword\n",
    "print(keyword, type(kwlist))"
   ]
  },
  {
   "cell_type": "code",
   "execution_count": null,
   "id": "0001edbd-6938-4056-b781-65d1ab9ee559",
   "metadata": {},
   "outputs": [],
   "source": [
    "# class='1st'"
   ]
  },
  {
   "cell_type": "code",
   "execution_count": 4,
   "id": "f055a7ce-d146-4579-982f-3acd30596e75",
   "metadata": {},
   "outputs": [
    {
     "name": "stdout",
     "output_type": "stream",
     "text": [
      "Class\n"
     ]
    }
   ],
   "source": [
    "print('Class')"
   ]
  },
  {
   "cell_type": "code",
   "execution_count": null,
   "id": "7b28cea9-aa91-408d-937d-b95fbb875812",
   "metadata": {},
   "outputs": [],
   "source": [
    "# Input Function in Python\n",
    "# username full name\n",
    "# collage\n",
    "# course join in sevenmentor\n",
    "\n",
    "Name = print(\"Enter your full name\")\n",
    "Collage Name = print(\"Enter your Collage Name\")\n",
    "Class = print(\"Enter your Class Name\")\n",
    "\n",
    "Enter the name = Arya Gadhe\n",
    "Collage Name = RLT Collage of Science\n",
    "Class = Seven Mentor Institute\n",
    "\n",
    "\n"
   ]
  },
  {
   "cell_type": "code",
   "execution_count": 13,
   "id": "e56572b0-73b6-4413-acad-b3cd77db7f16",
   "metadata": {},
   "outputs": [
    {
     "name": "stdout",
     "output_type": "stream",
     "text": [
      "34 <class 'int'>\n",
      "-56.743 <class 'float'>\n",
      "(-0-56j) <class 'complex'>\n",
      "False\n",
      "<class 'bool'>\n"
     ]
    }
   ],
   "source": [
    "# Data Types \n",
    "# Numerical Data Type\n",
    "# int= integer -number\n",
    "# type : to find the data type of variable\n",
    "age=34\n",
    "print(age, type(age))\n",
    "number=-56.743\n",
    "print(number, type(number))\n",
    "number=-56j\n",
    "print(number, type(number))\n",
    "\n",
    "\n",
    "# complex data type is used in bulky application\n",
    "# combination of one is real and img number\n",
    "# imaginary number is present by j\n",
    "data=False\n",
    "print(data)\n",
    "print(type(data))\n",
    "\n",
    "\n",
    "\n"
   ]
  },
  {
   "cell_type": "markdown",
   "id": "8061f285-fba1-4287-b60d-e76360eb615a",
   "metadata": {},
   "source": [
    "# String Data Type \n",
    "the string is collection of character, path, website link store, name, address,\n",
    "string written into \"\", ''-single line string\n",
    "\"\"\" \",\"\" -multiple string\n",
    "name=\"arya\"\n",
    "print(name,type(name))"
   ]
  },
  {
   "cell_type": "code",
   "execution_count": null,
   "id": "bcb21be5-6d3e-4207-a875-4ef84d2aad42",
   "metadata": {},
   "outputs": [],
   "source": [
    "# None Data type : None data type is placeholder for the variable.\n"
   ]
  },
  {
   "cell_type": "code",
   "execution_count": 26,
   "id": "904a987e-e45c-4557-ad4a-05705d983377",
   "metadata": {},
   "outputs": [
    {
     "name": "stdout",
     "output_type": "stream",
     "text": [
      "<class 'range'>\n",
      "0\n",
      "2\n",
      "4\n",
      "6\n",
      "8\n"
     ]
    }
   ],
   "source": [
    "# Range function Data Type: Range is used to print the value into the some specific range\n",
    "# range (start, end, jump)\n",
    "# start : default is 0 include\n",
    "# end : must to end value always exclude by -1\n",
    "# jump : default value is 1 and jump the number \n",
    "\n",
    "v=range(1,10)\n",
    "print(type(v))\n",
    "\n",
    "for i in range(0,10,2):\n",
    "    print(i)"
   ]
  },
  {
   "cell_type": "code",
   "execution_count": 29,
   "id": "4fc0b7c9-7e35-44ba-95cc-d502d72585da",
   "metadata": {},
   "outputs": [
    {
     "name": "stdout",
     "output_type": "stream",
     "text": [
      "['arya', 'raj', 'om'] <class 'list'>\n"
     ]
    }
   ],
   "source": [
    "# List Data Type: List is used to store multiple values at one time and writing[]\n",
    "# mutable, hetro, homogeneous\n",
    "student_details=['arya','raj', 'om']\n",
    "print(student_details, type(student_details))"
   ]
  },
  {
   "cell_type": "code",
   "execution_count": null,
   "id": "b736e193-c921-404d-bf66-440f2d230cd5",
   "metadata": {},
   "outputs": [],
   "source": [
    "\n"
   ]
  }
 ],
 "metadata": {
  "kernelspec": {
   "display_name": "Python 3 (ipykernel)",
   "language": "python",
   "name": "python3"
  },
  "language_info": {
   "codemirror_mode": {
    "name": "ipython",
    "version": 3
   },
   "file_extension": ".py",
   "mimetype": "text/x-python",
   "name": "python",
   "nbconvert_exporter": "python",
   "pygments_lexer": "ipython3",
   "version": "3.13.7"
  }
 },
 "nbformat": 4,
 "nbformat_minor": 5
}
