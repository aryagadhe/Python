{
 "cells": [
  {
   "cell_type": "code",
   "execution_count": 2,
   "id": "57ab771d-d23c-4fb1-af8e-ac83d5f527b1",
   "metadata": {},
   "outputs": [
    {
     "name": "stdout",
     "output_type": "stream",
     "text": [
      "Select Operation:\n",
      "1. Add (+)\n",
      "2. Subtract (-)\n",
      "3. Multiply (×)\n",
      "4. Divide (÷)\n"
     ]
    },
    {
     "name": "stdin",
     "output_type": "stream",
     "text": [
      "Enter choice (1/2/3/4):  2\n",
      "Enter first number:  3\n",
      "Enter second number:  12\n"
     ]
    },
    {
     "name": "stdout",
     "output_type": "stream",
     "text": [
      "The result is: -9.0\n"
     ]
    }
   ],
   "source": [
    "# Simple Calculator App\n",
    "\n",
    "# Step 1: Define functions for each operation\n",
    "def add(x, y):\n",
    "    return x + y\n",
    "\n",
    "def subtract(x, y):\n",
    "    return x - y\n",
    "\n",
    "def multiply(x, y):\n",
    "    return x * y\n",
    "\n",
    "def divide(x, y):\n",
    "    if y != 0:\n",
    "        return x / y\n",
    "    else:\n",
    "        return \"Error! Division by zero.\"\n",
    "\n",
    "# Step 2: Show menu to user\n",
    "print(\"Select Operation:\")\n",
    "print(\"1. Add (+)\")\n",
    "print(\"2. Subtract (-)\")\n",
    "print(\"3. Multiply (×)\")\n",
    "print(\"4. Divide (÷)\")\n",
    "\n",
    "# Step 3: Take user input\n",
    "choice = input(\"Enter choice (1/2/3/4): \")\n",
    "\n",
    "num1 = float(input(\"Enter first number: \"))\n",
    "num2 = float(input(\"Enter second number: \"))\n",
    "\n",
    "# Step 4: Perform operation based on user choice\n",
    "if choice == '1':\n",
    "    print(f\"The result is: {add(num1, num2)}\")\n",
    "elif choice == '2':\n",
    "    print(f\"The result is: {subtract(num1, num2)}\")\n",
    "elif choice == '3':\n",
    "    print(f\"The result is: {multiply(num1, num2)}\")\n",
    "elif choice == '4':\n",
    "    print(f\"The result is: {divide(num1, num2)}\")\n",
    "else:\n",
    "    print(\"Invalid Input!\")\n",
    "\n",
    "\n"
   ]
  },
  {
   "cell_type": "code",
   "execution_count": 16,
   "id": "7ca414e8-e10b-48ad-beb4-4d2e10059889",
   "metadata": {},
   "outputs": [
    {
     "name": "stdout",
     "output_type": "stream",
     "text": [
      "Welcome to the Python Quiz Game!\n",
      "\n",
      "What is the capital of India?\n"
     ]
    },
    {
     "name": "stdin",
     "output_type": "stream",
     "text": [
      "Your answer:  Delhi\n"
     ]
    },
    {
     "name": "stdout",
     "output_type": "stream",
     "text": [
      "✅ Correct!\n",
      "\n",
      "What is the chemical symbol for water?\n"
     ]
    },
    {
     "name": "stdin",
     "output_type": "stream",
     "text": [
      "Your answer:  h2o\n"
     ]
    },
    {
     "name": "stdout",
     "output_type": "stream",
     "text": [
      "✅ Correct!\n",
      "\n",
      "Who developed the Python programming language?\n"
     ]
    },
    {
     "name": "stdin",
     "output_type": "stream",
     "text": [
      "Your answer:  guido van rusom\n"
     ]
    },
    {
     "name": "stdout",
     "output_type": "stream",
     "text": [
      "❌ Wrong! The correct answer is: guido van rossum\n",
      "\n",
      "Which planet is known as the Red Planet?\n"
     ]
    },
    {
     "name": "stdin",
     "output_type": "stream",
     "text": [
      "Your answer:  mars\n"
     ]
    },
    {
     "name": "stdout",
     "output_type": "stream",
     "text": [
      "✅ Correct!\n",
      "\n",
      "What is 5 + 7?\n"
     ]
    },
    {
     "name": "stdin",
     "output_type": "stream",
     "text": [
      "Your answer:  12\n"
     ]
    },
    {
     "name": "stdout",
     "output_type": "stream",
     "text": [
      "✅ Correct!\n",
      "\n",
      "🎯 Quiz Completed!\n",
      "Your final score is: 4/5\n",
      "Good job! 👍\n"
     ]
    }
   ],
   "source": [
    "# Simple Quiz Game \n",
    "\n",
    "print(\"Welcome to the Python Quiz Game!\")\n",
    "\n",
    "# Step 1: Create a dictionary of questions and answers\n",
    "quiz = {\n",
    "    \"What is the capital of India?\": \"delhi\",\n",
    "    \"What is the chemical symbol for water?\": \"h2o\",\n",
    "    \"Who developed the Python programming language?\": \"guido van rossum\",\n",
    "    \"Which planet is known as the Red Planet?\": \"mars\",\n",
    "    \"What is 5 + 7?\": \"12\"\n",
    "}\n",
    "\n",
    "score = 0  # to keep track of correct answers\n",
    "\n",
    "# Step 2: Use a loop to ask each question\n",
    "for question, answer in quiz.items():\n",
    "    print(\"\\n\" + question)\n",
    "    user_answer = input(\"Your answer: \").lower()\n",
    "\n",
    "    # Step 3: Check the answer\n",
    "    if user_answer == answer:\n",
    "        print(\"✅ Correct!\")\n",
    "        score += 1\n",
    "    else:\n",
    "        print(f\"❌ Wrong! The correct answer is: {answer}\")\n",
    "\n",
    "# Step 4: Show the final score\n",
    "print(\"\\n🎯 Quiz Completed!\")\n",
    "print(f\"Your final score is: {score}/{len(quiz)}\")\n",
    "\n",
    "# Step 5: Optional message based on performance\n",
    "if score == len(quiz):\n",
    "    print(\"Excellent! You got all answers right! 🥳\")\n",
    "elif score >= 3:\n",
    "    print(\"Good job! 👍\")\n",
    "else:\n",
    "    print(\"Keep practicing! 💪\")\n"
   ]
  },
  {
   "cell_type": "code",
   "execution_count": null,
   "id": "22b8c45d-bbd1-4df2-913d-f7ee47898d62",
   "metadata": {},
   "outputs": [],
   "source": []
  }
 ],
 "metadata": {
  "kernelspec": {
   "display_name": "Python 3 (ipykernel)",
   "language": "python",
   "name": "python3"
  },
  "language_info": {
   "codemirror_mode": {
    "name": "ipython",
    "version": 3
   },
   "file_extension": ".py",
   "mimetype": "text/x-python",
   "name": "python",
   "nbconvert_exporter": "python",
   "pygments_lexer": "ipython3",
   "version": "3.13.7"
  }
 },
 "nbformat": 4,
 "nbformat_minor": 5
}
