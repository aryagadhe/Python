{
 "cells": [
  {
   "cell_type": "code",
   "execution_count": null,
   "id": "7b9fd9ef-5abf-4bf7-851b-97cb3361ed5c",
   "metadata": {},
   "outputs": [],
   "source": [
    "# For Loop : Is the definite loop and is based on iterable (list, string, tuple, dictionary, set, range)"
   ]
  },
  {
   "cell_type": "code",
   "execution_count": 7,
   "id": "e605cf7f-87dd-4c3c-aeb2-248cfef9b585",
   "metadata": {},
   "outputs": [
    {
     "name": "stdout",
     "output_type": "stream",
     "text": [
      "hello word\n",
      "hello word\n",
      "hello word\n",
      "hello word\n",
      "hello word\n",
      "hello word\n",
      "hello word\n",
      "hello word\n",
      "hello word\n",
      "hello word\n"
     ]
    }
   ],
   "source": [
    "for num in range(10):\n",
    "    print('hello word')"
   ]
  },
  {
   "cell_type": "code",
   "execution_count": 6,
   "id": "ed8a0f09-554e-4b83-8243-02965ec04414",
   "metadata": {},
   "outputs": [
    {
     "name": "stdout",
     "output_type": "stream",
     "text": [
      "1\n",
      "2\n",
      "3\n",
      "4\n",
      "5\n",
      "6\n",
      "7\n",
      "8\n",
      "9\n",
      "10\n"
     ]
    }
   ],
   "source": [
    "for i in range(1,11):\n",
    "    print(i)\n"
   ]
  },
  {
   "cell_type": "code",
   "execution_count": 5,
   "id": "0121ea97-b3bf-4da3-8f39-8a31ba5aae57",
   "metadata": {},
   "outputs": [
    {
     "name": "stdout",
     "output_type": "stream",
     "text": [
      "0\n"
     ]
    }
   ],
   "source": [
    "for i in range(0,10,10):\n",
    "    print(i)"
   ]
  },
  {
   "cell_type": "code",
   "execution_count": 8,
   "id": "7338315d-f5ff-4d58-9f89-12a842ddddc6",
   "metadata": {},
   "outputs": [
    {
     "name": "stdout",
     "output_type": "stream",
     "text": [
      "2\n",
      "4\n",
      "6\n",
      "8\n",
      "10\n",
      "12\n",
      "14\n",
      "16\n",
      "18\n",
      "20\n"
     ]
    }
   ],
   "source": [
    "#print the number between 2 to 21\n",
    "for num in range (2,21,2):\n",
    "    print(num)"
   ]
  },
  {
   "cell_type": "code",
   "execution_count": 9,
   "id": "dc77465e-3f2e-410e-a363-5373983b7c88",
   "metadata": {},
   "outputs": [
    {
     "name": "stdout",
     "output_type": "stream",
     "text": [
      "5\n",
      "10\n",
      "15\n",
      "20\n",
      "25\n",
      "30\n",
      "35\n",
      "40\n",
      "45\n",
      "50\n"
     ]
    }
   ],
   "source": [
    "#between 1 to 50 only print those with divided by 5 \n",
    "for i in range(1,51):\n",
    "    if i%5==0:\n",
    "        print(i)"
   ]
  },
  {
   "cell_type": "code",
   "execution_count": 11,
   "id": "5f74312c-7e29-45b8-964a-f00cd64d942d",
   "metadata": {},
   "outputs": [
    {
     "name": "stdout",
     "output_type": "stream",
     "text": [
      "not divided\n",
      "not divided\n",
      "3\n",
      "not divided\n",
      "not divided\n",
      "6\n",
      "not divided\n",
      "not divided\n",
      "9\n",
      "not divided\n",
      "not divided\n",
      "12\n",
      "not divided\n",
      "not divided\n",
      "15\n",
      "not divided\n",
      "not divided\n",
      "18\n",
      "not divided\n",
      "not divided\n",
      "21\n",
      "not divided\n",
      "not divided\n",
      "24\n",
      "not divided\n",
      "not divided\n",
      "27\n",
      "not divided\n",
      "not divided\n",
      "30\n",
      "not divided\n",
      "not divided\n",
      "33\n",
      "not divided\n",
      "not divided\n",
      "36\n",
      "not divided\n",
      "not divided\n",
      "39\n",
      "not divided\n",
      "not divided\n",
      "42\n",
      "not divided\n",
      "not divided\n",
      "45\n",
      "not divided\n",
      "not divided\n",
      "48\n",
      "not divided\n",
      "not divided\n"
     ]
    }
   ],
   "source": [
    "for i in range(1,51):\n",
    "    if i%3==0:\n",
    "        print(i)\n",
    "    else:\n",
    "        print('not divided')\n",
    "    \n",
    "    "
   ]
  },
  {
   "cell_type": "code",
   "execution_count": 13,
   "id": "c2efa762-c5cc-4c19-99e3-edeba4d9c86a",
   "metadata": {},
   "outputs": [
    {
     "name": "stdout",
     "output_type": "stream",
     "text": [
      "1\n",
      "2\n",
      "3\n",
      "4\n",
      "5\n",
      "6\n",
      "7\n",
      "8\n",
      "9\n"
     ]
    }
   ],
   "source": [
    "subject='python hi'\n",
    "count=0\n",
    "for i in subject:\n",
    "    count=count+1\n",
    "    print(count)"
   ]
  },
  {
   "cell_type": "code",
   "execution_count": 14,
   "id": "c70dd15a-32b5-49b2-ae11-c5ff42a7fb84",
   "metadata": {},
   "outputs": [
    {
     "name": "stdout",
     "output_type": "stream",
     "text": [
      "the total sum is: 1\n",
      "the total sum is: 3\n",
      "the total sum is: 6\n",
      "the total sum is: 10\n",
      "the total sum is: 15\n",
      "the total sum is: 21\n",
      "the total sum is: 28\n",
      "the total sum is: 36\n",
      "the total sum is: 45\n",
      "the total sum is: 55\n"
     ]
    }
   ],
   "source": [
    "count=0\n",
    "for i in range(1,11):\n",
    "    count=count+i\n",
    "    print('the total sum is:',count)"
   ]
  },
  {
   "cell_type": "code",
   "execution_count": 15,
   "id": "ef7f28be-688b-4d5c-a8a7-5f2290a44412",
   "metadata": {},
   "outputs": [
    {
     "name": "stdout",
     "output_type": "stream",
     "text": [
      "p\n",
      "y\n",
      "t\n",
      "h\n",
      "o\n",
      "n\n",
      " \n",
      "a\n",
      "n\n",
      "d\n",
      " \n",
      "p\n",
      "r\n",
      "o\n",
      "g\n",
      "r\n",
      "a\n",
      "m\n",
      "m\n",
      "i\n",
      "n\n",
      "g\n"
     ]
    }
   ],
   "source": [
    "data='python and programming'\n",
    "for i in data:\n",
    "    print(i)"
   ]
  },
  {
   "cell_type": "code",
   "execution_count": 20,
   "id": "a6fb369b-63f0-4b0d-85d5-f4e8b4885598",
   "metadata": {},
   "outputs": [
    {
     "name": "stdout",
     "output_type": "stream",
     "text": [
      "p\n",
      "a\n",
      "p\n",
      "a\n"
     ]
    }
   ],
   "source": [
    "data='python and programming'\n",
    "for i in data:\n",
    "    if i=='a' or i=='p':\n",
    "        print(i)"
   ]
  },
  {
   "cell_type": "code",
   "execution_count": 21,
   "id": "d52ef992-b1c0-4d40-b5ac-f228579365ca",
   "metadata": {},
   "outputs": [
    {
     "name": "stdout",
     "output_type": "stream",
     "text": [
      "<class 'list'>\n",
      "61\n",
      "81\n",
      "61\n",
      "39\n",
      "27\n",
      "92\n",
      "104\n"
     ]
    }
   ],
   "source": [
    "marks=[56,76,56,34,22,87,99]\n",
    "print(type(marks))\n",
    "for j in marks:\n",
    "    print(j+5)"
   ]
  },
  {
   "cell_type": "code",
   "execution_count": 22,
   "id": "0c592e72-c434-4be3-934c-3f0d9b27e28e",
   "metadata": {},
   "outputs": [
    {
     "name": "stdout",
     "output_type": "stream",
     "text": [
      "python\n",
      "java\n",
      "css\n",
      "html\n",
      "django\n"
     ]
    }
   ],
   "source": [
    "subject=['python','java','css','html','django']  #list\n",
    "for sub in subject:\n",
    "    print(sub)\n",
    "    "
   ]
  },
  {
   "cell_type": "code",
   "execution_count": 23,
   "id": "8eb16508-7eb6-4031-b012-d09fd80d3df6",
   "metadata": {},
   "outputs": [
    {
     "name": "stdout",
     "output_type": "stream",
     "text": [
      "python\n",
      "java\n",
      "css\n",
      "html\n",
      "django\n"
     ]
    }
   ],
   "source": [
    "subject=('python','java','css','html','django') #tuple\n",
    "for sub in subject:\n",
    "    print(sub)"
   ]
  },
  {
   "cell_type": "code",
   "execution_count": null,
   "id": "d048ae9a-8935-4bee-b497-210f23a3d4a0",
   "metadata": {},
   "outputs": [],
   "source": [
    "subject={'python','java','css','html','django'} #set \n",
    "for sub in subject:\n",
    "    print(sub)"
   ]
  },
  {
   "cell_type": "code",
   "execution_count": 24,
   "id": "abfcc750-3b58-4602-a5eb-52d226d8fca3",
   "metadata": {},
   "outputs": [
    {
     "name": "stdout",
     "output_type": "stream",
     "text": [
      "stu1\n",
      "stu2\n",
      "stu3\n"
     ]
    }
   ],
   "source": [
    "d={'stu1':'kia','stu2':'rahul','stu3':'komal'}\n",
    "for key in d:\n",
    "    print(key)"
   ]
  },
  {
   "cell_type": "code",
   "execution_count": 25,
   "id": "53e77b2c-e699-4f5e-b6b3-ba0c9d9d18c5",
   "metadata": {},
   "outputs": [
    {
     "name": "stdin",
     "output_type": "stream",
     "text": [
      "Enter the number of product: 32\n",
      "the price of the product is: 230\n"
     ]
    },
    {
     "name": "stdout",
     "output_type": "stream",
     "text": [
      "230.0\n"
     ]
    },
    {
     "name": "stdin",
     "output_type": "stream",
     "text": [
      "the price of the product is: 25\n"
     ]
    },
    {
     "name": "stdout",
     "output_type": "stream",
     "text": [
      "255.0\n"
     ]
    },
    {
     "name": "stdin",
     "output_type": "stream",
     "text": [
      "the price of the product is: 21\n"
     ]
    },
    {
     "name": "stdout",
     "output_type": "stream",
     "text": [
      "276.0\n"
     ]
    },
    {
     "name": "stdin",
     "output_type": "stream",
     "text": [
      "the price of the product is: 76\n"
     ]
    },
    {
     "name": "stdout",
     "output_type": "stream",
     "text": [
      "352.0\n"
     ]
    },
    {
     "name": "stdin",
     "output_type": "stream",
     "text": [
      "the price of the product is: 23\n"
     ]
    },
    {
     "name": "stdout",
     "output_type": "stream",
     "text": [
      "375.0\n"
     ]
    },
    {
     "name": "stdin",
     "output_type": "stream",
     "text": [
      "the price of the product is: 65\n"
     ]
    },
    {
     "name": "stdout",
     "output_type": "stream",
     "text": [
      "440.0\n"
     ]
    },
    {
     "name": "stdin",
     "output_type": "stream",
     "text": [
      "the price of the product is: 46\n"
     ]
    },
    {
     "name": "stdout",
     "output_type": "stream",
     "text": [
      "486.0\n"
     ]
    },
    {
     "name": "stdin",
     "output_type": "stream",
     "text": [
      "the price of the product is: 32\n"
     ]
    },
    {
     "name": "stdout",
     "output_type": "stream",
     "text": [
      "518.0\n"
     ]
    },
    {
     "name": "stdin",
     "output_type": "stream",
     "text": [
      "the price of the product is: 23\n"
     ]
    },
    {
     "name": "stdout",
     "output_type": "stream",
     "text": [
      "541.0\n"
     ]
    },
    {
     "name": "stdin",
     "output_type": "stream",
     "text": [
      "the price of the product is: 45\n"
     ]
    },
    {
     "name": "stdout",
     "output_type": "stream",
     "text": [
      "586.0\n"
     ]
    },
    {
     "name": "stdin",
     "output_type": "stream",
     "text": [
      "the price of the product is: 98\n"
     ]
    },
    {
     "name": "stdout",
     "output_type": "stream",
     "text": [
      "684.0\n"
     ]
    },
    {
     "name": "stdin",
     "output_type": "stream",
     "text": [
      "the price of the product is: 09\n"
     ]
    },
    {
     "name": "stdout",
     "output_type": "stream",
     "text": [
      "693.0\n"
     ]
    },
    {
     "name": "stdin",
     "output_type": "stream",
     "text": [
      "the price of the product is: 211\n"
     ]
    },
    {
     "name": "stdout",
     "output_type": "stream",
     "text": [
      "904.0\n"
     ]
    },
    {
     "name": "stdin",
     "output_type": "stream",
     "text": [
      "the price of the product is: 54\n"
     ]
    },
    {
     "name": "stdout",
     "output_type": "stream",
     "text": [
      "958.0\n"
     ]
    },
    {
     "name": "stdin",
     "output_type": "stream",
     "text": [
      "the price of the product is: r\n"
     ]
    },
    {
     "ename": "ValueError",
     "evalue": "could not convert string to float: 'r'",
     "output_type": "error",
     "traceback": [
      "\u001b[31m---------------------------------------------------------------------------\u001b[39m",
      "\u001b[31mValueError\u001b[39m                                Traceback (most recent call last)",
      "\u001b[36mCell\u001b[39m\u001b[36m \u001b[39m\u001b[32mIn[25]\u001b[39m\u001b[32m, line 4\u001b[39m\n\u001b[32m      2\u001b[39m total=\u001b[32m0\u001b[39m\n\u001b[32m      3\u001b[39m \u001b[38;5;28;01mfor\u001b[39;00m i \u001b[38;5;129;01min\u001b[39;00m \u001b[38;5;28mrange\u001b[39m(n):\n\u001b[32m----> \u001b[39m\u001b[32m4\u001b[39m     price=\u001b[38;5;28;43mfloat\u001b[39;49m\u001b[43m(\u001b[49m\u001b[38;5;28;43minput\u001b[39;49m\u001b[43m(\u001b[49m\u001b[33;43m\"\u001b[39;49m\u001b[33;43mthe price of the product is:\u001b[39;49m\u001b[33;43m\"\u001b[39;49m\u001b[43m)\u001b[49m\u001b[43m)\u001b[49m\n\u001b[32m      5\u001b[39m     total+=price\n\u001b[32m      6\u001b[39m     \u001b[38;5;28mprint\u001b[39m(total)\n",
      "\u001b[31mValueError\u001b[39m: could not convert string to float: 'r'"
     ]
    }
   ],
   "source": [
    "n=int(input('Enter the number of product'))\n",
    "count=0\n",
    "for i in range(n):\n",
    "    amount=int(input('enter the amount'))\n",
    "    count+=amount\n",
    "    print('total sum is',count)"
   ]
  },
  {
   "cell_type": "code",
   "execution_count": 27,
   "id": "5e86fba2-fd30-4916-af1d-e9fd1ee74803",
   "metadata": {},
   "outputs": [
    {
     "name": "stdout",
     "output_type": "stream",
     "text": [
      "1\n",
      "2\n",
      "3\n",
      "4\n",
      "5\n"
     ]
    }
   ],
   "source": [
    "# Transfer Statement : break, continue, pass\n",
    "#break :break statement is userred to break the loop before the loop execute normally\n",
    "for i in range(1,10):\n",
    "    print(i)\n",
    "    if i==5:\n",
    "        break"
   ]
  },
  {
   "cell_type": "code",
   "execution_count": null,
   "id": "a8f079ea-0deb-4bbd-ba56-5c6f991ede7e",
   "metadata": {},
   "outputs": [],
   "source": []
  }
 ],
 "metadata": {
  "kernelspec": {
   "display_name": "Python 3 (ipykernel)",
   "language": "python",
   "name": "python3"
  },
  "language_info": {
   "codemirror_mode": {
    "name": "ipython",
    "version": 3
   },
   "file_extension": ".py",
   "mimetype": "text/x-python",
   "name": "python",
   "nbconvert_exporter": "python",
   "pygments_lexer": "ipython3",
   "version": "3.13.7"
  }
 },
 "nbformat": 4,
 "nbformat_minor": 5
}
