{
 "cells": [
  {
   "cell_type": "markdown",
   "id": "21ed5e66-e3da-4a7a-8839-c4c0dcce0136",
   "metadata": {},
   "source": [
    "emp_details={\n",
    "    'name':'rohan',\n",
    "    'id':'1002',\n",
    "    'location':'pune'\n",
    "}\n",
    "print(emp_details, type(emp_details))\n",
    "    "
   ]
  },
  {
   "cell_type": "code",
   "execution_count": 1,
   "id": "a6d83821-1a05-4e4d-b9cd-f2136ae02d39",
   "metadata": {},
   "outputs": [
    {
     "name": "stdout",
     "output_type": "stream",
     "text": [
      "{4224, 8905, 4356, 7684} <class 'set'>\n"
     ]
    }
   ],
   "source": [
    "emp_ids={4356,4224,7684,8905}\n",
    "print(emp_ids,type(emp_ids))"
   ]
  },
  {
   "cell_type": "code",
   "execution_count": 2,
   "id": "57327c73-5140-4201-b605-910d061e2c23",
   "metadata": {},
   "outputs": [
    {
     "name": "stdout",
     "output_type": "stream",
     "text": [
      "<class 'str'>\n",
      "<class 'float'>\n",
      "45.0\n"
     ]
    }
   ],
   "source": [
    "sub='45'\n",
    "print(type(sub))\n",
    "sub=(float(sub))\n",
    "print(type(sub))\n",
    "print(sub)"
   ]
  },
  {
   "cell_type": "code",
   "execution_count": 3,
   "id": "be4d6b47-bced-48be-b4b7-8c68bf0abfae",
   "metadata": {},
   "outputs": [
    {
     "name": "stdout",
     "output_type": "stream",
     "text": [
      "True\n",
      "True\n",
      "False\n",
      "True\n",
      "False\n"
     ]
    }
   ],
   "source": [
    "dataset='hello user'\n",
    "print('he' in dataset)\n",
    "print(' ' in dataset)\n",
    "print('ho' in dataset)\n",
    "print('hello' in dataset)\n",
    "print('HELLO' in dataset)"
   ]
  },
  {
   "cell_type": "code",
   "execution_count": 4,
   "id": "e96497eb-a56b-4b2a-9dea-1ca60f878f7c",
   "metadata": {},
   "outputs": [
    {
     "name": "stdout",
     "output_type": "stream",
     "text": [
      "True\n"
     ]
    }
   ],
   "source": [
    "D='USER@123'\n",
    "print('123' in D)"
   ]
  },
  {
   "cell_type": "code",
   "execution_count": 5,
   "id": "211f40ae-819a-4955-b46c-e84531724124",
   "metadata": {},
   "outputs": [
    {
     "name": "stdout",
     "output_type": "stream",
     "text": [
      "False\n",
      "False\n",
      "True\n",
      "False\n",
      "True\n"
     ]
    }
   ],
   "source": [
    "dataset='hello user'\n",
    "print('he' not in dataset)\n",
    "print(' ' not in dataset)\n",
    "print('ho' not in dataset)\n",
    "print('hello' not in dataset)\n",
    "print('HELLO' not in dataset)"
   ]
  },
  {
   "cell_type": "code",
   "execution_count": 6,
   "id": "56b73bde-171a-483e-aff7-f21455f0b4f7",
   "metadata": {},
   "outputs": [
    {
     "name": "stdout",
     "output_type": "stream",
     "text": [
      "True\n",
      "True\n",
      "False\n"
     ]
    }
   ],
   "source": [
    "d=['python','java','css','javascript','32']\n",
    "print('python' in d)\n",
    "print('python' in d)\n",
    "print(56 in d)"
   ]
  },
  {
   "cell_type": "code",
   "execution_count": 8,
   "id": "4b939ec4-8df7-4bc9-9f3a-ca93ed34ba79",
   "metadata": {},
   "outputs": [
    {
     "name": "stdout",
     "output_type": "stream",
     "text": [
      "False\n",
      "True\n"
     ]
    }
   ],
   "source": [
    "stu=('python','java','css','django')\n",
    "print('python' in stu and 10==10 and 10>30)\n",
    "print(True or True)"
   ]
  },
  {
   "cell_type": "code",
   "execution_count": null,
   "id": "8bea4aff-6b0f-4e0c-bc76-4a75c513953d",
   "metadata": {},
   "outputs": [],
   "source": [
    "num1=int(input('10'))\n",
    "num2=int(input('2'))\n",
    "print(num1>100 or num2==2)"
   ]
  }
 ],
 "metadata": {
  "kernelspec": {
   "display_name": "Python 3 (ipykernel)",
   "language": "python",
   "name": "python3"
  },
  "language_info": {
   "codemirror_mode": {
    "name": "ipython",
    "version": 3
   },
   "file_extension": ".py",
   "mimetype": "text/x-python",
   "name": "python",
   "nbconvert_exporter": "python",
   "pygments_lexer": "ipython3",
   "version": "3.13.7"
  }
 },
 "nbformat": 4,
 "nbformat_minor": 5
}
