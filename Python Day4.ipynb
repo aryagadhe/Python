{
 "cells": [
  {
   "cell_type": "code",
   "execution_count": null,
   "id": "3dc5da86-8bc2-4abe-856c-3f0ce94be369",
   "metadata": {},
   "outputs": [],
   "source": [
    "# Relationship Operators"
   ]
  },
  {
   "cell_type": "code",
   "execution_count": 1,
   "id": "469a0908-a28a-40a6-bd79-5e149d0f0e68",
   "metadata": {},
   "outputs": [
    {
     "name": "stdout",
     "output_type": "stream",
     "text": [
      "False\n"
     ]
    }
   ],
   "source": [
    "print(10==20)"
   ]
  },
  {
   "cell_type": "code",
   "execution_count": 3,
   "id": "16665a79-efec-4cae-a23e-1cc6ef30d893",
   "metadata": {},
   "outputs": [
    {
     "name": "stdin",
     "output_type": "stream",
     "text": [
      "enter the number 10\n"
     ]
    },
    {
     "name": "stdout",
     "output_type": "stream",
     "text": [
      "True\n"
     ]
    }
   ],
   "source": [
    "num=int(input('enter the number'))\n",
    "print(num==10)"
   ]
  },
  {
   "cell_type": "raw",
   "id": "600680cb-ee70-4a1e-ab4d-8e15d7f3daa1",
   "metadata": {},
   "source": [
    "print(ord('a'),ord('z')) \n",
    "print(ord('A'),ord('Z')) \n"
   ]
  },
  {
   "cell_type": "code",
   "execution_count": 4,
   "id": "fb26f59b-5f91-4e7b-88df-7306da6197cd",
   "metadata": {},
   "outputs": [
    {
     "name": "stdout",
     "output_type": "stream",
     "text": [
      "True\n",
      "False\n"
     ]
    }
   ],
   "source": [
    "print(23<300)\n",
    "print(23<-300)"
   ]
  },
  {
   "cell_type": "code",
   "execution_count": null,
   "id": "712ca3db-ff96-4984-bfc5-b78c8c789d98",
   "metadata": {},
   "outputs": [],
   "source": [
    "# Assignment Operators: To use the increment and decrement values"
   ]
  },
  {
   "cell_type": "code",
   "execution_count": 6,
   "id": "d9935a62-9124-41b8-b634-3037fd70b989",
   "metadata": {},
   "outputs": [
    {
     "name": "stdout",
     "output_type": "stream",
     "text": [
      "pythonhello\n"
     ]
    }
   ],
   "source": [
    "sub='python'\n",
    "sub+='hello'\n",
    "print(sub)\n"
   ]
  },
  {
   "cell_type": "code",
   "execution_count": 10,
   "id": "0e820d69-dfb6-428b-abae-c60583898492",
   "metadata": {},
   "outputs": [
    {
     "name": "stdout",
     "output_type": "stream",
     "text": [
      "4\n",
      "16\n",
      "6\n"
     ]
    }
   ],
   "source": [
    "num=2\n",
    "num*=2\n",
    "print(num)\n",
    "num**=2\n",
    "print(num)\n",
    "num-=10\n",
    "print(num)"
   ]
  },
  {
   "cell_type": "code",
   "execution_count": null,
   "id": "8310480e-1e6e-4532-b1f4-3191619f8606",
   "metadata": {},
   "outputs": [],
   "source": [
    "# Membership Operators: \n",
    "in : in checkreturn if the item present into the database if yes True else will get False\n",
    "not in : in Check if the item noto present into the dataset if yes return True else will get False"
   ]
  },
  {
   "cell_type": "code",
   "execution_count": 13,
   "id": "a0f194ff-5417-4291-af2f-3b48e640d417",
   "metadata": {},
   "outputs": [
    {
     "name": "stdout",
     "output_type": "stream",
     "text": [
      "True\n",
      "True\n",
      "False\n",
      "True\n",
      "False\n"
     ]
    }
   ],
   "source": [
    "dataset='hello user'\n",
    "print('he' in dataset)\n",
    "print(' ' in dataset)\n",
    "print('ho' in dataset)\n",
    "print('hello' in dataset)\n",
    "print('HELLO' in dataset)\n"
   ]
  },
  {
   "cell_type": "code",
   "execution_count": 14,
   "id": "b940dfa0-742b-47b2-9515-cfe9a44a092c",
   "metadata": {},
   "outputs": [
    {
     "name": "stdout",
     "output_type": "stream",
     "text": [
      "True\n"
     ]
    }
   ],
   "source": [
    "D='USER@123'\n",
    "print('123' in D)"
   ]
  },
  {
   "cell_type": "code",
   "execution_count": 15,
   "id": "30909080-d981-48ed-9055-d019b232029b",
   "metadata": {},
   "outputs": [
    {
     "name": "stdout",
     "output_type": "stream",
     "text": [
      "False\n",
      "False\n",
      "True\n",
      "False\n",
      "True\n"
     ]
    }
   ],
   "source": [
    "dataset='hello user'\n",
    "print('he' not in dataset)\n",
    "print(' ' not in dataset)\n",
    "print('ho' not in dataset)\n",
    "print('hello' not  in dataset)\n",
    "print('HELLO' not in dataset)"
   ]
  },
  {
   "cell_type": "code",
   "execution_count": 16,
   "id": "749aff6f-f21a-4abc-835c-be8cdfd6ac3e",
   "metadata": {},
   "outputs": [
    {
     "name": "stdout",
     "output_type": "stream",
     "text": [
      "True\n",
      "False\n",
      "False\n"
     ]
    }
   ],
   "source": [
    "d=['python','java','css','html','javascript','56']\n",
    "print('python' in d)\n",
    "print(' python ' in d)\n",
    "print(56 in d)"
   ]
  },
  {
   "cell_type": "code",
   "execution_count": null,
   "id": "6c014bed-3313-427f-a68a-4cb379aac03c",
   "metadata": {},
   "outputs": [],
   "source": [
    "# Identity Operators \n",
    "is : The is operators is not check the value it will check the object of the data if the object is same return the true otherwise false\n",
    "not is : the is not operator is wise varsa of is and if the operators have diff object return true otherwise return false\n"
   ]
  },
  {
   "cell_type": "code",
   "execution_count": 20,
   "id": "b6e7a202-0523-4b36-93c7-495e9d9e8538",
   "metadata": {},
   "outputs": [
    {
     "name": "stdout",
     "output_type": "stream",
     "text": [
      "False\n",
      "True\n",
      "True\n",
      "False\n"
     ]
    }
   ],
   "source": [
    "s=2\n",
    "s3=20\n",
    "print(s is s3)\n",
    "\n",
    "print(type(35) is int)\n",
    "print('python' is 'python')\n",
    "\n",
    "v= 56666\n",
    "v2=56666\n",
    "print(v is v2)\n"
   ]
  },
  {
   "cell_type": "code",
   "execution_count": null,
   "id": "e2601b75-fe9d-4a25-baca-7f51bb4f83ac",
   "metadata": {},
   "outputs": [],
   "source": [
    "# Logical Operators\n",
    "and : compare more than one condition if all the condition is true otherwise return false\n",
    "or : if one of the condition is true return the true otherwise return the false \n",
    "not : the not operator is unery operator where if condition is true return false if condition is false return "
   ]
  },
  {
   "cell_type": "code",
   "execution_count": null,
   "id": "41a73871-9604-43b8-b5bc-6654371b8ef6",
   "metadata": {},
   "outputs": [],
   "source": []
  }
 ],
 "metadata": {
  "kernelspec": {
   "display_name": "Python 3 (ipykernel)",
   "language": "python",
   "name": "python3"
  },
  "language_info": {
   "codemirror_mode": {
    "name": "ipython",
    "version": 3
   },
   "file_extension": ".py",
   "mimetype": "text/x-python",
   "name": "python",
   "nbconvert_exporter": "python",
   "pygments_lexer": "ipython3",
   "version": "3.13.7"
  }
 },
 "nbformat": 4,
 "nbformat_minor": 5
}
