{
 "cells": [
  {
   "cell_type": "code",
   "execution_count": 3,
   "id": "02d19ce6-a184-4574-846f-f58f150c6f13",
   "metadata": {},
   "outputs": [
    {
     "name": "stdout",
     "output_type": "stream",
     "text": [
      "1 1 1 1  \n",
      "2 2 2 2  \n",
      "3 3 3 3  \n",
      "4 4 4 4  \n"
     ]
    }
   ],
   "source": [
    "for i in range(1,5):\n",
    "    for j in range(1,5):\n",
    "        print(i, end=' ')\n",
    "    print(' ')"
   ]
  },
  {
   "cell_type": "code",
   "execution_count": 5,
   "id": "ac320ad9-c52c-4dd5-b1c2-8b6cfca40e9e",
   "metadata": {},
   "outputs": [
    {
     "name": "stdout",
     "output_type": "stream",
     "text": [
      "* \n",
      "* \n",
      "* \n",
      "* \n",
      "* \n",
      "* \n",
      "* \n",
      "* \n",
      "* \n",
      "* \n"
     ]
    }
   ],
   "source": [
    "for i in range(0,4):\n",
    "    for j in range(i+1):\n",
    "        print('*', end='')\n",
    "        print(' ')"
   ]
  },
  {
   "cell_type": "code",
   "execution_count": 9,
   "id": "1076e22d-f214-4105-b9c8-3fcf8513a6e6",
   "metadata": {},
   "outputs": [
    {
     "name": "stdin",
     "output_type": "stream",
     "text": [
      "enter the number: 4\n"
     ]
    },
    {
     "name": "stdout",
     "output_type": "stream",
     "text": [
      "*  \n",
      "*  \n",
      "*  \n",
      "*  \n",
      "*  \n",
      "*  \n",
      "*  \n",
      "*  \n",
      "*  \n",
      "*  \n"
     ]
    }
   ],
   "source": [
    "num=int(input('enter the number:'))\n",
    "for i in range(num):\n",
    "    for j in range(num-i):\n",
    "        print('*',end=' ')\n",
    "        print(' ')"
   ]
  },
  {
   "cell_type": "code",
   "execution_count": 4,
   "id": "74770e3e-a405-462f-ae3c-7a0bcce90358",
   "metadata": {},
   "outputs": [
    {
     "name": "stdout",
     "output_type": "stream",
     "text": [
      "hello\n"
     ]
    }
   ],
   "source": [
    "# Infinite loop  While loop is based condition the loop will keep executing until the condition become false\n",
    "# While condition Statement: increment/decrement\n",
    "while 10!=100:\n",
    "    print('hello')\n",
    "    break\n",
    "    "
   ]
  },
  {
   "cell_type": "code",
   "execution_count": 5,
   "id": "5d089d4d-5af5-4fff-8184-6a36b5a82622",
   "metadata": {},
   "outputs": [
    {
     "name": "stdout",
     "output_type": "stream",
     "text": [
      "hello word\n",
      "hello word\n",
      "hello word\n",
      "hello word\n",
      "hello word\n",
      "hello word\n"
     ]
    }
   ],
   "source": [
    "count=0\n",
    "while count<=5:\n",
    "    print('hello word')\n",
    "    count+=1"
   ]
  },
  {
   "cell_type": "code",
   "execution_count": null,
   "id": "5ff4fedc-abb7-4d8e-8f9d-5b373658bab8",
   "metadata": {},
   "outputs": [],
   "source": [
    "password=input('enter the password')\n",
    "while True:\n",
    "    if password=='admin123':\n",
    "        print('correct password')\n",
    "        break\n",
    "    else:\n",
    "        print('wrong password')"
   ]
  },
  {
   "cell_type": "code",
   "execution_count": null,
   "id": "f4a84612-9888-4015-b470-0292c408bf55",
   "metadata": {},
   "outputs": [],
   "source": [
    "count = 0\n",
    "while count <= 10:\n",
    "    count += 1\n",
    "    if count == 3 or count == 5:\n",
    "        continue\n",
    "    else:\n",
    "        print(count)"
   ]
  }
 ],
 "metadata": {
  "kernelspec": {
   "display_name": "Python 3 (ipykernel)",
   "language": "python",
   "name": "python3"
  },
  "language_info": {
   "codemirror_mode": {
    "name": "ipython",
    "version": 3
   },
   "file_extension": ".py",
   "mimetype": "text/x-python",
   "name": "python",
   "nbconvert_exporter": "python",
   "pygments_lexer": "ipython3",
   "version": "3.13.7"
  }
 },
 "nbformat": 4,
 "nbformat_minor": 5
}
