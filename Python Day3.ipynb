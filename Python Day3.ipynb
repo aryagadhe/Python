{
 "cells": [
  {
   "cell_type": "code",
   "execution_count": 6,
   "id": "71a38c5d-0bf4-4ff5-bd3c-db2e224bf186",
   "metadata": {},
   "outputs": [
    {
     "name": "stdout",
     "output_type": "stream",
     "text": [
      "date_of_birth <class 'str'>\n"
     ]
    }
   ],
   "source": [
    "# Tuple Data Type : \n",
    "data_of_birth=('15/12/2003','12/09/2004')\n",
    "print('date_of_birth',type('date_of_birth'))               "
   ]
  },
  {
   "cell_type": "code",
   "execution_count": 8,
   "id": "8f8a73ea-81bd-4de2-ace0-ea54e4ae02ee",
   "metadata": {},
   "outputs": [
    {
     "name": "stdout",
     "output_type": "stream",
     "text": [
      "{'name': 'rahul', 'id': '1001', 'location': 'pune'} <class 'dict'>\n"
     ]
    }
   ],
   "source": [
    "# Mutable Data Type\n",
    "emp_details={\n",
    "    'name':'rahul',\n",
    "    'id':'1001',\n",
    "    'location':'pune'\n",
    "}\n",
    "print(emp_details, type(emp_details))"
   ]
  },
  {
   "cell_type": "code",
   "execution_count": 10,
   "id": "c4dc0cf1-008c-4c62-bc1b-dee8230d6be9",
   "metadata": {},
   "outputs": [
    {
     "name": "stdout",
     "output_type": "stream",
     "text": [
      "{3456, 5467, 6789, 5678} <class 'set'>\n"
     ]
    }
   ],
   "source": [
    "# Set Data Structure\n",
    "emp_ids={5678,6789,5467,3456}\n",
    "print(emp_ids, type(emp_ids))\n"
   ]
  },
  {
   "cell_type": "raw",
   "id": "5c13c5f5-0b14-4d98-a86a-c96153bba8e5",
   "metadata": {},
   "source": [
    "# Bytes Data Type: To store the Data type\n",
    "data=bytes(b'python')\n",
    "print(data)\n",
    "\n",
    "data=bytes(345)\n",
    "print(data)\n",
    "\n",
    "data=bytearray([34,55,87])\n",
    "print(data,type(data))\n",
    "\n",
    "data=bytes(700)\n",
    "print(data,type(data))\n",
    "print(memoryview(data))"
   ]
  },
  {
   "cell_type": "raw",
   "id": "83ba4490-6aea-4f5a-b868-a49485c57f13",
   "metadata": {},
   "source": [
    "# Data Casting: To cast the data from one to another data type\n",
    "# Python does not support operation on different data type for the same reason we \n",
    "n=input('enter the number')\n",
    "print(type(n),n)\n",
    "\n",
    "data='89'\n",
    "print(12+int(data))\n",
    "\n",
    "data=43.56\n",
    "print(int(data))"
   ]
  },
  {
   "cell_type": "code",
   "execution_count": 7,
   "id": "ef28f3ec-fcc5-4cee-995c-b81063d788c2",
   "metadata": {},
   "outputs": [
    {
     "name": "stdout",
     "output_type": "stream",
     "text": [
      "54.0\n",
      "<class 'str'>\n",
      "<class 'float'>\n",
      "56.0\n"
     ]
    }
   ],
   "source": [
    "# Float Data Type:\n",
    "data='54'\n",
    "print(float(data))\n",
    "\n",
    "sub='56'\n",
    "print(type(sub))\n",
    "sub = float(sub)\n",
    "print(type(sub))\n",
    "print(sub)\n"
   ]
  },
  {
   "cell_type": "code",
   "execution_count": 21,
   "id": "0c9c8341-24ed-4222-bcfa-aa9e2bdffc05",
   "metadata": {},
   "outputs": [
    {
     "name": "stdout",
     "output_type": "stream",
     "text": [
      "True\n",
      "False\n",
      "False\n",
      "True\n"
     ]
    }
   ],
   "source": [
    "# Bool Data Structure\n",
    "v=-6\n",
    "print(bool(v))\n",
    "\n",
    "v=0\n",
    "print(bool(v))\n",
    "\n",
    "st=\"\"\n",
    "print(bool(st))\n",
    "\n",
    "st='hello'\n",
    "print(bool(st))"
   ]
  },
  {
   "cell_type": "code",
   "execution_count": 27,
   "id": "7ce1d093-98d0-43ba-9f44-2b0d30cf0b74",
   "metadata": {},
   "outputs": [],
   "source": [
    "# Sequence Data type: \n",
    "# List - other type convert into list\n",
    "# Tuple -\n",
    "# Set\n",
    "\n",
    "student1=['arya','rahul']\n",
    "student2=()\n",
    "\n",
    "data=[56,33,23,65,23]\n",
    "\n",
    "data='56,33,23,65,23'\n",
    "print=(\"convert into string\")\n",
    "\n",
    "data='56,33,23,65,23'\n",
    "print=(\"convert into set\")\n"
   ]
  },
  {
   "cell_type": "raw",
   "id": "173f4cf8-4347-4aff-a513-311621311962",
   "metadata": {},
   "source": [
    "# Mathematical Operators (arthmatic)\n",
    "+ addition \n",
    "- substraction\n",
    "* multiplication\n",
    "** explonsention\n",
    "/ division\n",
    "// floor division\n",
    "% moduler\n",
    "\n",
    "print(num1+num2)\n",
    "print(num1-num2)\n",
    "print(num1*num2)\n",
    "print(num1**num2)\n",
    "print(num1/num2)\n",
    "print(num1//num2)\n",
    "print(num1%num2)"
   ]
  },
  {
   "cell_type": "code",
   "execution_count": null,
   "id": "7620e3ec-ee2a-41f3-a222-2e0217d0a574",
   "metadata": {},
   "outputs": [],
   "source": []
  }
 ],
 "metadata": {
  "kernelspec": {
   "display_name": "Python 3 (ipykernel)",
   "language": "python",
   "name": "python3"
  },
  "language_info": {
   "codemirror_mode": {
    "name": "ipython",
    "version": 3
   },
   "file_extension": ".py",
   "mimetype": "text/x-python",
   "name": "python",
   "nbconvert_exporter": "python",
   "pygments_lexer": "ipython3",
   "version": "3.13.7"
  }
 },
 "nbformat": 4,
 "nbformat_minor": 5
}
