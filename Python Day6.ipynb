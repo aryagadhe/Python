{
 "cells": [
  {
   "cell_type": "code",
   "execution_count": null,
   "id": "d69f098d-6f04-43bf-b4ce-2966b2a0e96d",
   "metadata": {},
   "outputs": [],
   "source": [
    "# If Conditional Statement"
   ]
  },
  {
   "cell_type": "code",
   "execution_count": 1,
   "id": "69c2d3eb-f6bd-4557-9c29-13e0c9503526",
   "metadata": {},
   "outputs": [
    {
     "name": "stdin",
     "output_type": "stream",
     "text": [
      "enter the num -78\n"
     ]
    },
    {
     "name": "stdout",
     "output_type": "stream",
     "text": [
      "number is negative\n"
     ]
    }
   ],
   "source": [
    "num=int(input('enter the num'))\n",
    "if num<0:\n",
    "    print('number is negative')"
   ]
  },
  {
   "cell_type": "code",
   "execution_count": null,
   "id": "c33be893-6bc1-4aa2-8b26-dd2120b5092c",
   "metadata": {},
   "outputs": [],
   "source": [
    "# If else Statement: If else is the condition statement in the python if the \n",
    "(if block true return IF BLOCK\n",
    "EXECUTE ELSE (else block))"
   ]
  },
  {
   "cell_type": "code",
   "execution_count": 2,
   "id": "db5e8988-12ea-43c7-b738-9fb1b90da69f",
   "metadata": {},
   "outputs": [
    {
     "name": "stdin",
     "output_type": "stream",
     "text": [
      "enter the num 65\n"
     ]
    },
    {
     "name": "stdout",
     "output_type": "stream",
     "text": [
      "number is positive\n"
     ]
    }
   ],
   "source": [
    "num=int(input('enter the num'))\n",
    "if num<0:\n",
    "    print('number is negative')\n",
    "else:\n",
    "    print('number is positive')\n",
    "    "
   ]
  },
  {
   "cell_type": "code",
   "execution_count": 3,
   "id": "d1f1e7f7-966a-40d3-91ae-8823db7e3300",
   "metadata": {},
   "outputs": [
    {
     "name": "stdin",
     "output_type": "stream",
     "text": [
      "enter the age 23\n"
     ]
    },
    {
     "name": "stdout",
     "output_type": "stream",
     "text": [
      "you can vote\n"
     ]
    }
   ],
   "source": [
    "age=int(input('enter the age'))\n",
    "if age>=18:\n",
    "    print('you can vote')\n",
    "else:\n",
    "    print('you can not vote')\n",
    "    \n",
    "    "
   ]
  },
  {
   "cell_type": "code",
   "execution_count": null,
   "id": "84ac1eb5-763b-45f2-a0e7-1d1faad6d4f5",
   "metadata": {},
   "outputs": [],
   "source": [
    "# Even and Odd numbers: Reminder will be 0 then its even, or not then it will be odd"
   ]
  },
  {
   "cell_type": "code",
   "execution_count": 4,
   "id": "d8637480-756c-42e8-97ac-b7a8749c17c3",
   "metadata": {},
   "outputs": [
    {
     "name": "stdin",
     "output_type": "stream",
     "text": [
      "enter the num 8\n"
     ]
    },
    {
     "name": "stdout",
     "output_type": "stream",
     "text": [
      "even number\n"
     ]
    }
   ],
   "source": [
    "num=int(input('enter the num'))\n",
    "if num%2==0:\n",
    "    print('even number')\n",
    "else:\n",
    "    print('number is odd')\n",
    "    "
   ]
  },
  {
   "cell_type": "code",
   "execution_count": 15,
   "id": "c4578e6c-e671-4c6a-8056-5e6d06318b2c",
   "metadata": {},
   "outputs": [
    {
     "name": "stdin",
     "output_type": "stream",
     "text": [
      "enter the password: admin@123\n",
      "enter the user name ADMIN\n"
     ]
    },
    {
     "name": "stdout",
     "output_type": "stream",
     "text": [
      "login in system\n"
     ]
    }
   ],
   "source": [
    "# password - admin@123\n",
    "# user_name=ADMIN\n",
    "password=input('enter the password:')\n",
    "user_name=input('enter the user name')\n",
    "if user_name=='ADMIN' and password=='admin@123':\n",
    "    print('login in system')\n",
    "else:\n",
    "    print('invalid password or user')"
   ]
  },
  {
   "cell_type": "code",
   "execution_count": 16,
   "id": "8aa0945f-fbf8-4c42-9d05-5ee513d043a2",
   "metadata": {},
   "outputs": [
    {
     "name": "stdin",
     "output_type": "stream",
     "text": [
      "enter the amount 6000\n"
     ]
    },
    {
     "name": "stdout",
     "output_type": "stream",
     "text": [
      "insufficient balance\n"
     ]
    }
   ],
   "source": [
    "balance=1000\n",
    "amount=int(input('enter the amount'))\n",
    "\n",
    "if balance>=amount:\n",
    "    print('amount withdraw')\n",
    "    balance=balance-amount\n",
    "    print('remaining amount',balance)\n",
    "else:\n",
    "    print('insufficient balance')"
   ]
  },
  {
   "cell_type": "code",
   "execution_count": null,
   "id": "0f1aac43-3f56-4b9e-bc79-e213c6666d4a",
   "metadata": {},
   "outputs": [],
   "source": [
    "# If Elif: This is multi line conditional statement into python and always execture first"
   ]
  },
  {
   "cell_type": "code",
   "execution_count": 19,
   "id": "86e6207c-6b54-47f3-807d-a2eb967ccecb",
   "metadata": {},
   "outputs": [
    {
     "name": "stdin",
     "output_type": "stream",
     "text": [
      "enter the num -98\n"
     ]
    },
    {
     "name": "stdout",
     "output_type": "stream",
     "text": [
      "number is negative\n"
     ]
    }
   ],
   "source": [
    "num=int(input('enter the num'))\n",
    "if num<0:\n",
    "    print('number is negative')\n",
    "elif num==0:\n",
    "    print('number is zero')\n",
    "else:\n",
    "    print('number is positive')\n",
    "    \n"
   ]
  },
  {
   "cell_type": "code",
   "execution_count": 21,
   "id": "00a3d868-02da-4140-98c4-934e312916bd",
   "metadata": {},
   "outputs": [
    {
     "name": "stdin",
     "output_type": "stream",
     "text": [
      "enter the day 5\n"
     ]
    },
    {
     "name": "stdout",
     "output_type": "stream",
     "text": [
      "Friday\n"
     ]
    }
   ],
   "source": [
    "day=int(input('enter the day'))\n",
    "if day==1:\n",
    "    print(\"Monday\")\n",
    "elif day==2:\n",
    "    print(\"Tuesday\")\n",
    "elif day==3:\n",
    "    print(\"Wednesday\")\n",
    "elif day==4:\n",
    "    print(\"Thursday\")\n",
    "elif day==5:\n",
    "    print(\"Friday\")\n",
    "elif day==6:\n",
    "    print(\"Saturday\")\n",
    "elif day==7:\n",
    "    print(\"Sunday\")\n",
    "elif day==1:\n",
    "    print(\".......\")\n",
    "else:\n",
    "    print('please enter the number between 1 to 7:')"
   ]
  },
  {
   "cell_type": "code",
   "execution_count": 25,
   "id": "1f30bcc6-4adc-435f-87d6-01579ddee8ff",
   "metadata": {},
   "outputs": [
    {
     "name": "stdin",
     "output_type": "stream",
     "text": [
      "enter the number1 : 32\n",
      "enter the number2 : 15\n",
      "enter the operation (+,*,-,//) : +\n"
     ]
    },
    {
     "name": "stdout",
     "output_type": "stream",
     "text": [
      "addition: 3215\n"
     ]
    }
   ],
   "source": [
    "num1=input('enter the number1 :')\n",
    "num2=input('enter the number2 :')\n",
    "operation=input('enter the operation (+,*,-,//) :')\n",
    "if operation==\"+\":\n",
    "    print('addition:',num1 + num2)\n",
    "elif operation=='*':\n",
    "    print('multiplication:', num1 * num2)\n",
    "elif operation=='+':\n",
    "    print('addition:', num1 * num2)\n",
    "elif operation=='-':\n",
    "    print('subtraction:', num1 * num2)\n",
    "else:\n",
    "    print('invalid operation')\n",
    "    \n",
    "    \n",
    "    "
   ]
  },
  {
   "cell_type": "code",
   "execution_count": 27,
   "id": "aaf5bb8c-1a7e-4b79-8102-a9f6900ba62f",
   "metadata": {},
   "outputs": [
    {
     "name": "stdin",
     "output_type": "stream",
     "text": [
      "enter present or absent present\n"
     ]
    },
    {
     "name": "stdout",
     "output_type": "stream",
     "text": [
      "processing\n"
     ]
    },
    {
     "name": "stdin",
     "output_type": "stream",
     "text": [
      "enter the mark 40\n"
     ]
    },
    {
     "name": "stdout",
     "output_type": "stream",
     "text": [
      "congrates pass\n"
     ]
    }
   ],
   "source": [
    "#If Condition\n",
    "attendance=input('enter present or absent')\n",
    "if attendance=='present':\n",
    "    print('processing')\n",
    "    marks=int(input('enter the mark'))\n",
    "if marks>=35:\n",
    "        print('congrates pass')\n",
    "else:\n",
    "        print('sorry fail try next year')\n",
    "else:\n",
    "    print('okay try next year')\n",
    "        "
   ]
  },
  {
   "cell_type": "code",
   "execution_count": null,
   "id": "03187cb8-a01e-4136-bd51-cd5791613d32",
   "metadata": {},
   "outputs": [],
   "source": []
  }
 ],
 "metadata": {
  "kernelspec": {
   "display_name": "Python 3 (ipykernel)",
   "language": "python",
   "name": "python3"
  },
  "language_info": {
   "codemirror_mode": {
    "name": "ipython",
    "version": 3
   },
   "file_extension": ".py",
   "mimetype": "text/x-python",
   "name": "python",
   "nbconvert_exporter": "python",
   "pygments_lexer": "ipython3",
   "version": "3.13.7"
  }
 },
 "nbformat": 4,
 "nbformat_minor": 5
}
