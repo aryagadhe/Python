{
 "cells": [
  {
   "cell_type": "code",
   "execution_count": 2,
   "id": "cb1950c7-3407-40a2-b379-05ba0a91a895",
   "metadata": {},
   "outputs": [
    {
     "name": "stdout",
     "output_type": "stream",
     "text": [
      "10\n"
     ]
    }
   ],
   "source": [
    "# Break Statement\n",
    "for i in range(10,21):\n",
    "    print(i)\n",
    "    if i%5==0:\n",
    "        break"
   ]
  },
  {
   "cell_type": "code",
   "execution_count": 10,
   "id": "88a76849-0918-44fd-8a63-2921ae7fdfa5",
   "metadata": {},
   "outputs": [
    {
     "name": "stdout",
     "output_type": "stream",
     "text": [
      "kajal\n",
      "hina\n",
      "priya\n",
      "None\n"
     ]
    }
   ],
   "source": [
    "data=['kajal','hina','priya',None,'rohit','rahul']\n",
    "for name in data:\n",
    "    print(name)\n",
    "    if name==None:\n",
    "        break"
   ]
  },
  {
   "cell_type": "code",
   "execution_count": null,
   "id": "f446b426-4baa-457f-9a45-bf948e02dc88",
   "metadata": {},
   "outputs": [],
   "source": [
    "count = 0 \n",
    "for i in range(1):\n",
    "    password = input('enter the password')\n",
    "if password == 'dream@1':\n",
    "    print('login into system')\n",
    "    break\n",
    "else:\n",
    "    count += 1\n",
    "    print('wrong password attempt',count)"
   ]
  },
  {
   "cell_type": "code",
   "execution_count": 30,
   "id": "0fd786cb-7b4c-40f5-9385-c5077920e2ff",
   "metadata": {},
   "outputs": [
    {
     "name": "stdout",
     "output_type": "stream",
     "text": [
      "1\n",
      "2\n",
      "3\n",
      "4\n",
      "6\n",
      "8\n",
      "9\n"
     ]
    }
   ],
   "source": [
    "# Continue Statement: \n",
    "for i in range(1,10):\n",
    "    if i==5 or i==7:\n",
    "        continue\n",
    "    print(i)"
   ]
  },
  {
   "cell_type": "code",
   "execution_count": 34,
   "id": "c3b94f90-444c-40d6-b752-3d474df4c540",
   "metadata": {},
   "outputs": [
    {
     "name": "stdout",
     "output_type": "stream",
     "text": [
      "-87\n"
     ]
    }
   ],
   "source": [
    "marks=[66,-67,78,77,89,0,65,-87]\n",
    "for i in marks:\n",
    "    if i<=0:\n",
    "        continue\n",
    "print(i)"
   ]
  },
  {
   "cell_type": "code",
   "execution_count": 38,
   "id": "ca0516ef-36fa-4b0a-91dc-b5528260804c",
   "metadata": {},
   "outputs": [],
   "source": [
    "for i in range(1,10):\n",
    "    pass"
   ]
  },
  {
   "cell_type": "code",
   "execution_count": 39,
   "id": "e07b8ea6-ba22-4cc9-9cab-390b04aa8bd3",
   "metadata": {},
   "outputs": [],
   "source": [
    "class emp_details:\n",
    "    pass"
   ]
  },
  {
   "cell_type": "code",
   "execution_count": 42,
   "id": "3638a557-c077-4993-a421-5deebc48a8e7",
   "metadata": {},
   "outputs": [],
   "source": [
    "if 10==10:\n",
    "    pass # will write later \n",
    "else:\n",
    "    pass # will write later "
   ]
  },
  {
   "cell_type": "code",
   "execution_count": 5,
   "id": "b969be8c-8f56-458c-9817-87b60d8acd43",
   "metadata": {},
   "outputs": [
    {
     "name": "stdout",
     "output_type": "stream",
     "text": [
      "76\n"
     ]
    }
   ],
   "source": [
    "password= 76\n",
    "print(password)"
   ]
  },
  {
   "cell_type": "code",
   "execution_count": 44,
   "id": "37f590d9-de3e-4678-b045-f1200aafded2",
   "metadata": {},
   "outputs": [
    {
     "name": "stdout",
     "output_type": "stream",
     "text": [
      "['False', 'None', 'True', 'and', 'as', 'assert', 'async', 'await', 'break', 'class', 'continue', 'def', 'del', 'elif', 'else', 'except', 'finally', 'for', 'from', 'global', 'if', 'import', 'in', 'is', 'lambda', 'nonlocal', 'not', 'or', 'pass', 'raise', 'return', 'try', 'while', 'with', 'yield']\n"
     ]
    }
   ],
   "source": [
    "import keyword\n",
    "print(keyword.kwlist)"
   ]
  },
  {
   "cell_type": "code",
   "execution_count": 45,
   "id": "9631c984-4273-4f1b-9cd4-74fea82bb224",
   "metadata": {},
   "outputs": [
    {
     "name": "stdout",
     "output_type": "stream",
     "text": [
      "1\n",
      "2\n",
      "3\n",
      "4\n",
      "5\n",
      "6\n",
      "7\n",
      "8\n",
      "9\n",
      "executed normal\n"
     ]
    }
   ],
   "source": [
    "for i in range(1,10):\n",
    "    print(i)\n",
    "else:\n",
    "    print('executed normal')"
   ]
  },
  {
   "cell_type": "code",
   "execution_count": 46,
   "id": "36231a43-96b8-4eb4-950a-4ac7f5f5878d",
   "metadata": {},
   "outputs": [
    {
     "name": "stdout",
     "output_type": "stream",
     "text": [
      "1\n",
      "2\n",
      "3\n",
      "4\n",
      "6\n",
      "7\n",
      "8\n",
      "9\n",
      "executed normal\n"
     ]
    }
   ],
   "source": [
    "for i in range(1,10):\n",
    "    if i==5:\n",
    "        continue\n",
    "    print(i)\n",
    "else:\n",
    "    print('executed normal')"
   ]
  },
  {
   "cell_type": "code",
   "execution_count": 48,
   "id": "a5099996-5afc-4c3a-9db5-fa9a81ec1343",
   "metadata": {},
   "outputs": [
    {
     "name": "stdout",
     "output_type": "stream",
     "text": [
      "1\n",
      "2\n",
      "3\n",
      "4\n",
      "5\n",
      "6\n",
      "7\n",
      "8\n",
      "9\n",
      "executed normal\n"
     ]
    }
   ],
   "source": [
    "for i in range(1,10):\n",
    "    if i==11:\n",
    "        break\n",
    "    print(i)\n",
    "else:\n",
    "    print('executed normal')"
   ]
  },
  {
   "cell_type": "code",
   "execution_count": 51,
   "id": "a38f7494-f9e2-4799-9248-c17a9eb4e107",
   "metadata": {},
   "outputs": [
    {
     "name": "stdin",
     "output_type": "stream",
     "text": [
      "enter the number 6\n"
     ]
    },
    {
     "name": "stdout",
     "output_type": "stream",
     "text": [
      "it prime number\n",
      "it prime number\n",
      "it prime number\n",
      "it prime number\n"
     ]
    }
   ],
   "source": [
    "# Prime number: Prime number are those numbers \n",
    "n=int(input('enter the number'))\n",
    "if n<=1:\n",
    "    print('not prime')\n",
    "else:\n",
    "    for i in range(2,n):\n",
    "        if i%n==0:\n",
    "            print('not prime number')\n",
    "            break\n",
    "        else:\n",
    "            print('it prime number')"
   ]
  },
  {
   "cell_type": "code",
   "execution_count": 53,
   "id": "643fb2ca-3c59-4664-aed9-1cfe0e5bdb7b",
   "metadata": {},
   "outputs": [
    {
     "name": "stdout",
     "output_type": "stream",
     "text": [
      "1\n",
      "2\n",
      "hello\n",
      "hello\n"
     ]
    }
   ],
   "source": [
    "# Nasted : The nasted is looping statement we have loop inside the loop\n",
    "for i in range(1,3):\n",
    "    print(i)\n",
    "for j in range(1,3):\n",
    "    print('hello')"
   ]
  },
  {
   "cell_type": "code",
   "execution_count": null,
   "id": "cf59c0c3-204b-40e5-981e-d0475f64676c",
   "metadata": {},
   "outputs": [],
   "source": []
  }
 ],
 "metadata": {
  "kernelspec": {
   "display_name": "Python 3 (ipykernel)",
   "language": "python",
   "name": "python3"
  },
  "language_info": {
   "codemirror_mode": {
    "name": "ipython",
    "version": 3
   },
   "file_extension": ".py",
   "mimetype": "text/x-python",
   "name": "python",
   "nbconvert_exporter": "python",
   "pygments_lexer": "ipython3",
   "version": "3.13.7"
  }
 },
 "nbformat": 4,
 "nbformat_minor": 5
}
