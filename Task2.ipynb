{
 "cells": [
  {
   "cell_type": "code",
   "execution_count": 1,
   "id": "f037e07d-305c-48c9-94d8-822c322f0c25",
   "metadata": {},
   "outputs": [
    {
     "name": "stdout",
     "output_type": "stream",
     "text": [
      "[2, 4, 6, 8, 10]\n"
     ]
    }
   ],
   "source": [
    "#1. Demo List: numbers=[1,2,3,4,5,6,7,8,9,10]Q: Use list comprehension to get all even numbers.\n",
    "numbers = [1,2,3,4,5,6,7,8,9,10]\n",
    "li = [i for i in numbers if i%2 == 0]\n",
    "print(li)"
   ]
  },
  {
   "cell_type": "markdown",
   "id": "392a28d7-1ad1-46b0-be99-d75d809504cf",
   "metadata": {},
   "source": [
    "# 2. Demo list numbers = [1,2,3,4,5,6,7,8,9,10]Q: Create a list of squares of all numbers\n",
    "numbers = [i**2 for i in numbers]\n",
    "print(li)"
   ]
  },
  {
   "cell_type": "code",
   "execution_count": 2,
   "id": "0b13041c-7daa-40e7-9b27-8c571967decd",
   "metadata": {},
   "outputs": [
    {
     "name": "stdout",
     "output_type": "stream",
     "text": [
      "[6, 7, 8, 9, 10]\n"
     ]
    }
   ],
   "source": [
    "#3. Demo List: numbers = [1,2,3,4,5,6,7,8,9,10]Q: Get all numbers greater than 5\n",
    "numbers = [1,2,3,4,5,6,7,8,9,10]\n",
    "li =[i for i in numbers if i > 5]\n",
    "print(li)"
   ]
  },
  {
   "cell_type": "code",
   "execution_count": 8,
   "id": "716d56a5-9dc9-4f03-a31a-a836ba946e6e",
   "metadata": {},
   "outputs": [
    {
     "name": "stdout",
     "output_type": "stream",
     "text": [
      "['Charlie']\n"
     ]
    }
   ],
   "source": [
    "#4. Demo list: names = [\"Alice\", \"Bob\", \"Charlie\", \"David\", \"Eve\"]Q. Get names that starts with letter \"C\"\n",
    "li = [i for i in names if i[0] == \"C\" or i[0]==\"C\"]\n",
    "print(li)"
   ]
  },
  {
   "cell_type": "code",
   "execution_count": 7,
   "id": "c1eb0c7d-96ec-4103-9da5-89db50606932",
   "metadata": {},
   "outputs": [
    {
     "name": "stdout",
     "output_type": "stream",
     "text": [
      "['ALICE', 'BOB', 'CHARLIE', 'DAVID', 'EVE']\n"
     ]
    }
   ],
   "source": [
    "#5. Demo list: names = [\"Alice\", \"Bob\", \"Charlie\", \"David\", \"Eve\"]Q: Convert all names into uppercase\n",
    "names = [\"Alice\", \"Bob\", \"Charlie\", \"David\", \"Eve\"]\n",
    "li = [i.upper() for i in names]\n",
    "print(li)"
   ]
  },
  {
   "cell_type": "code",
   "execution_count": 9,
   "id": "7c0148d8-406a-4f3a-b0c6-61c234d857d1",
   "metadata": {},
   "outputs": [
    {
     "name": "stdout",
     "output_type": "stream",
     "text": [
      "['banana', 'cherry']\n"
     ]
    }
   ],
   "source": [
    "#6. Demo List: words = [\"apple\", \"banana\", \"cherry\", \"date\", \"kiwi\"]Q: Extract words with length greater than 5\n",
    "words = [\"apple\", \"banana\", \"cherry\", \"date\", \"kiwi\"]\n",
    "li =[i for i in words if len(i) > 5]\n",
    "print(li)"
   ]
  },
  {
   "cell_type": "code",
   "execution_count": 10,
   "id": "a8e68bb4-1b16-4a94-8ab1-734028e8fd2b",
   "metadata": {},
   "outputs": [
    {
     "name": "stdout",
     "output_type": "stream",
     "text": [
      "['a', 'b', 'c', 'd', 'k']\n"
     ]
    }
   ],
   "source": [
    "#7. Demo list: words = [\"apple\", \"banana\", \"cherry\", \"date\", \"kiwi\"]Q: Get the first letter of each word.\n",
    "words = [\"apple\", \"banana\", \"cherry\", \"date\", \"kiwi\"]\n",
    "li = [i[0] for i in words ]\n",
    "print(li)"
   ]
  },
  {
   "cell_type": "code",
   "execution_count": 11,
   "id": "9ecd486d-a959-4e02-915b-d8b64c591243",
   "metadata": {},
   "outputs": [
    {
     "name": "stdout",
     "output_type": "stream",
     "text": [
      "[1.0, 2.0, 3.0, 4.0, 5.0]\n"
     ]
    }
   ],
   "source": [
    "#8. Demo List: nums = [5,10,15,20,25]Q. Divide each number by 5 using list comprehension.\n",
    "nums = [5,10,15,20,25]\n",
    "li =[i/5 for i in nums]\n",
    "print(li)"
   ]
  },
  {
   "cell_type": "code",
   "execution_count": 12,
   "id": "ed124962-974d-4e6c-a7b1-39e7b5af4a33",
   "metadata": {},
   "outputs": [
    {
     "name": "stdout",
     "output_type": "stream",
     "text": [
      "[10, 20]\n"
     ]
    }
   ],
   "source": [
    "#9. Demo List: nums = [5,10,15,20,25]Q.Get only those numbers which are multiples of 10.\n",
    "nums = [5,10,15,20,25]\n",
    "li = [i for i in nums if i%10==0]\n",
    "print(li)"
   ]
  },
  {
   "cell_type": "code",
   "execution_count": 24,
   "id": "bd50d3c7-f7d3-4ebd-beb8-a4cd9316040a",
   "metadata": {},
   "outputs": [
    {
     "name": "stdout",
     "output_type": "stream",
     "text": [
      "['Fail', 'Pass', 'Pass', 'Fail', 'Pass', 'Fail', 'Pass', 'Pass']\n"
     ]
    }
   ],
   "source": [
    "#10. Demo List: marks = [34,54,67,32,78,12,78,80]Q: Create a list that stores \"Pass\" if marks > 40 else \"Fail\".\n",
    "marks = [34,54,67,32,78,12,78,80]\n",
    "li=[]\n",
    "for i in marks:\n",
    "    if i >= 40:\n",
    "        li.append(\"Pass\")\n",
    "    else:\n",
    "     li.append(\"Fail\")   \n",
    "print(li)"
   ]
  },
  {
   "cell_type": "code",
   "execution_count": 14,
   "id": "2d4fc41f-ebec-453a-a69b-ef7d827415d2",
   "metadata": {},
   "outputs": [
    {
     "name": "stdout",
     "output_type": "stream",
     "text": [
      "['Even', 'Odd', 'Even', 'Odd', 'Even']\n"
     ]
    }
   ],
   "source": [
    "#11. Demo List: nums = [2,3,4,5,6]Q: Replace even numbers with \"Even\" and odd numbers with \"Odd\".\n",
    "nums = [2,3,4,5,6]\n",
    "li=[]\n",
    "for i in nums:\n",
    "    if i%2==0:\n",
    "        li.append(\"Even\")\n",
    "    else:\n",
    "        li.append(\"Odd\")\n",
    "print(li)"
   ]
  },
  {
   "cell_type": "code",
   "execution_count": 23,
   "id": "7e022499-c0aa-4c27-807e-04aa69b61159",
   "metadata": {},
   "outputs": [
    {
     "name": "stdout",
     "output_type": "stream",
     "text": [
      "[10, 20, 60, 80, 100]\n"
     ]
    }
   ],
   "source": [
    "#12. Demo list: nums = [10,20,30,40,50]Q: Multiply numbers greater than 25 by 2, keep others same.\n",
    "nums = [10,20,30,40,50]\n",
    "li = []\n",
    "for i in nums:\n",
    " if i > 25:\n",
    "     num= i*2\n",
    "     li.append(num)\n",
    " else:\n",
    "     li.append(i)\n",
    "print(li)\n",
    "     "
   ]
  },
  {
   "cell_type": "code",
   "execution_count": 22,
   "id": "b9d29cc8-165f-4c00-ab15-50952d1ada4c",
   "metadata": {},
   "outputs": [
    {
     "name": "stdout",
     "output_type": "stream",
     "text": [
      "['Long', 'Short', 'Long', 'Long', 'Long']\n"
     ]
    }
   ],
   "source": [
    " #13. Demo List: words = [\"dogs\", \"cat\", \"parrot\", \"tiger\", \"lion\"]Q: Replace words with \"Short\" if length < 3 else \"long\".\n",
    "words = [\"dogs\", \"cat\", \"parrot\", \"tiger\", \"lion\"]\n",
    "li=[]\n",
    "for i in words:\n",
    "    if len(i) <= 3:\n",
    "        li.append(\"Short\")\n",
    "    else:\n",
    "        li.append(\"Long\")\n",
    "print(li)\n",
    "        "
   ]
  },
  {
   "cell_type": "code",
   "execution_count": 21,
   "id": "31104970-9b20-4065-9767-ff593cdee4f4",
   "metadata": {},
   "outputs": [
    {
     "name": "stdout",
     "output_type": "stream",
     "text": [
      "[0, 0, 0, 3, 7, 0]\n"
     ]
    }
   ],
   "source": [
    "#14. Demo list: nums = [-5,-2,0,3,7,-1]Q: Replace negative numbers with 0 and keep others unchanged.\n",
    "nums = [-5, -2, 0, 3, 7, -1]\n",
    "li = []\n",
    "for i in nums:\n",
    "    if i < 0:\n",
    "        li.append(0)\n",
    "    else:\n",
    "        li.append(i)\n",
    "print(li)"
   ]
  },
  {
   "cell_type": "code",
   "execution_count": null,
   "id": "a0dbce2c-18e8-425c-ae05-d4e18f64fede",
   "metadata": {},
   "outputs": [],
   "source": []
  },
  {
   "cell_type": "code",
   "execution_count": null,
   "id": "c816a27c-9a4f-4867-a734-8a345f3355e7",
   "metadata": {},
   "outputs": [],
   "source": []
  }
 ],
 "metadata": {
  "kernelspec": {
   "display_name": "Python 3 (ipykernel)",
   "language": "python",
   "name": "python3"
  },
  "language_info": {
   "codemirror_mode": {
    "name": "ipython",
    "version": 3
   },
   "file_extension": ".py",
   "mimetype": "text/x-python",
   "name": "python",
   "nbconvert_exporter": "python",
   "pygments_lexer": "ipython3",
   "version": "3.13.7"
  }
 },
 "nbformat": 4,
 "nbformat_minor": 5
}
