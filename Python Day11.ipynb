{
 "cells": [
  {
   "cell_type": "code",
   "execution_count": 1,
   "id": "e387da25-ff68-4dab-bd10-df7148e5033c",
   "metadata": {},
   "outputs": [
    {
     "name": "stdout",
     "output_type": "stream",
     "text": [
      "['p', 'r', 'o', 'g', 'r', 'a', 'm', 'm', 'i', 'n', 'g', ' ', 'l', 'a', 'n', 'g', 'u', 'a', 'g', 'e']\n"
     ]
    }
   ],
   "source": [
    "data='programming language'\n",
    "print(list(data))"
   ]
  },
  {
   "cell_type": "code",
   "execution_count": 2,
   "id": "45c23cd6-97e3-4bc7-8d2f-8ae09fb0eaf9",
   "metadata": {},
   "outputs": [
    {
     "name": "stdout",
     "output_type": "stream",
     "text": [
      "['pooja', 'kajal']\n"
     ]
    }
   ],
   "source": [
    "data='pooja kajal'\n",
    "update_d=data.split()\n",
    "print(update_d)"
   ]
  },
  {
   "cell_type": "code",
   "execution_count": 3,
   "id": "e42b1f53-c23b-4b66-9376-ce7eba269693",
   "metadata": {},
   "outputs": [
    {
     "name": "stdout",
     "output_type": "stream",
     "text": [
      "13\n"
     ]
    }
   ],
   "source": [
    "msg='hello student'\n",
    "print(len(msg))"
   ]
  },
  {
   "cell_type": "code",
   "execution_count": 4,
   "id": "32e812e5-4a8a-45ba-b2d1-32918d7313b9",
   "metadata": {},
   "outputs": [
    {
     "name": "stdout",
     "output_type": "stream",
     "text": [
      " the len of string 1\n",
      " the len of string 2\n",
      " the len of string 3\n",
      " the len of string 4\n",
      " the len of string 5\n",
      " the len of string 6\n",
      " the len of string 7\n",
      " the len of string 8\n",
      " the len of string 9\n",
      " the len of string 10\n",
      " the len of string 11\n",
      " the len of string 12\n",
      " the len of string 13\n"
     ]
    }
   ],
   "source": [
    "count=0\n",
    "for chr in msg:\n",
    "    count=count+1\n",
    "    print(' the len of string',count)"
   ]
  },
  {
   "cell_type": "code",
   "execution_count": 7,
   "id": "86041b4f-4bd3-4490-a4a6-3a0c516deb2d",
   "metadata": {},
   "outputs": [
    {
     "name": "stdout",
     "output_type": "stream",
     "text": [
      "['python', 'java', 'ruby', 'html']\n",
      "python java ruby html\n"
     ]
    }
   ],
   "source": [
    "s=['python','java','ruby','html']\n",
    "print(str(s))\n",
    "data=' '.join(s)\n",
    "print(data)"
   ]
  },
  {
   "cell_type": "code",
   "execution_count": 9,
   "id": "22c2ccce-c63e-4d5a-a55d-133919b6962c",
   "metadata": {},
   "outputs": [
    {
     "name": "stdin",
     "output_type": "stream",
     "text": [
      "enter the string admin\n"
     ]
    },
    {
     "name": "stdout",
     "output_type": "stream",
     "text": [
      "False\n",
      "string not started with space\n"
     ]
    }
   ],
   "source": [
    "# Startwith - if we wanted to check if string started with specific value if correct return true otherwise return false \n",
    "# Endswith - if the substring ends with specific value written return true otherwise return false \n",
    "s='admin@123 and pass.'\n",
    "password=input('enter the string')\n",
    "print(password.startswith(' '))\n",
    "if password.startswith(' '):\n",
    "    print('string started with space')\n",
    "else:\n",
    "    print('string not started with space')"
   ]
  },
  {
   "cell_type": "code",
   "execution_count": null,
   "id": "b6a2e73d-d919-4d4f-bfb2-df9c8243a7a7",
   "metadata": {},
   "outputs": [],
   "source": [
    "mail=input('enter the mail to check')\n",
    "if mail.statement('student'):\n",
    "    print('belongs too student mail')\n",
    "elif mail.startswith('admin'):\n",
    "    print('admin too student mail')\n",
    "else:\n",
    "    print('mail id not belong to collage')"
   ]
  },
  {
   "cell_type": "code",
   "execution_count": null,
   "id": "3c7d6281-632b-4687-8719-230fc33861c0",
   "metadata": {},
   "outputs": [],
   "source": [
    "\n"
   ]
  }
 ],
 "metadata": {
  "kernelspec": {
   "display_name": "Python 3 (ipykernel)",
   "language": "python",
   "name": "python3"
  },
  "language_info": {
   "codemirror_mode": {
    "name": "ipython",
    "version": 3
   },
   "file_extension": ".py",
   "mimetype": "text/x-python",
   "name": "python",
   "nbconvert_exporter": "python",
   "pygments_lexer": "ipython3",
   "version": "3.13.7"
  }
 },
 "nbformat": 4,
 "nbformat_minor": 5
}
